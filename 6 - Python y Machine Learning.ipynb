{
 "cells": [
  {
   "cell_type": "markdown",
   "metadata": {},
   "source": [
    "# Curso de introduccion a Python y Machine Learning\n",
    "\n",
    "\n",
    "## Clase 6\n",
    "\n",
    "\n",
    "#### Indice:\n",
    "        matplotlib\n",
    "        "
   ]
  },
  {
   "cell_type": "markdown",
   "metadata": {},
   "source": [
    "## Matplotlib\n",
    "Es una biblioteca para la generación de gráficos a partir de datos contenidos en listas o arrays en Python y su extensión matemática NumPy. Se basa en el programa matlab.\n",
    "\n",
    "`matplotlib` tiene una amplia base de código que puede ser desalentador para muchos usuarios nuevos. Sin embargo, la mayoría\n",
    "de la biblioteca se puede entender con un marco conceptual bastante simple y conocimiento de algunos puntos importantes."
   ]
  },
  {
   "cell_type": "code",
   "execution_count": 1,
   "metadata": {
    "colab": {},
    "colab_type": "code",
    "id": "g4Co1r0w5J4t"
   },
   "outputs": [],
   "source": [
    "import pandas as pd\n",
    "import numpy as np\n",
    "import matplotlib.pyplot as plt\n",
    "%matplotlib inline"
   ]
  },
  {
   "cell_type": "markdown",
   "metadata": {},
   "source": [
    "<img src=\"matplotlib.png\">"
   ]
  },
  {
   "cell_type": "markdown",
   "metadata": {
    "colab_type": "text",
    "id": "ygzmcG2h5wml"
   },
   "source": [
    "Vamos a generar unos datos para empezar a graficar.\n",
    "Utilizamos de `numpy` la funcion `linspace` que nos retorna valores entre los valores especificados.\n",
    "**np.linspace(desde, hasta, cantidad)**"
   ]
  },
  {
   "cell_type": "code",
   "execution_count": 7,
   "metadata": {
    "colab": {
     "base_uri": "https://localhost:8080/",
     "height": 246
    },
    "colab_type": "code",
    "executionInfo": {
     "elapsed": 635,
     "status": "ok",
     "timestamp": 1566419036403,
     "user": {
      "displayName": "Martin Soko",
      "photoUrl": "https://lh3.googleusercontent.com/a-/AAuE7mB49KDH9U9UtjIU6-NzSX3GgsCcCcSc0iwMPsLF=s64",
      "userId": "09674850801791942615"
     },
     "user_tz": 180
    },
    "id": "sDOwYEco53vq",
    "outputId": "a82a58f8-e492-4cfa-aeb7-0102eff997a1"
   },
   "outputs": [
    {
     "data": {
      "text/plain": [
       "array([-10.  ,  -9.59,  -9.18,  -8.78,  -8.37,  -7.96,  -7.55,  -7.14,\n",
       "        -6.73,  -6.33,  -5.92,  -5.51,  -5.1 ,  -4.69,  -4.29,  -3.88,\n",
       "        -3.47,  -3.06,  -2.65,  -2.24,  -1.84,  -1.43,  -1.02,  -0.61,\n",
       "        -0.2 ,   0.2 ,   0.61,   1.02,   1.43,   1.84,   2.24,   2.65,\n",
       "         3.06,   3.47,   3.88,   4.29,   4.69,   5.1 ,   5.51,   5.92,\n",
       "         6.33,   6.73,   7.14,   7.55,   7.96,   8.37,   8.78,   9.18,\n",
       "         9.59,  10.  ])"
      ]
     },
     "execution_count": 7,
     "metadata": {},
     "output_type": "execute_result"
    }
   ],
   "source": [
    "#Generamos los valores del eje x\n",
    "x = np.linspace(-10, 10, 50)\n",
    "x = x.round(2)\n",
    "x"
   ]
  },
  {
   "cell_type": "code",
   "execution_count": 8,
   "metadata": {
    "colab": {},
    "colab_type": "code",
    "id": "8-NO9uX02vOu"
   },
   "outputs": [],
   "source": [
    "x2 = list(range(-10, 10))"
   ]
  },
  {
   "cell_type": "code",
   "execution_count": 9,
   "metadata": {
    "colab": {
     "base_uri": "https://localhost:8080/",
     "height": 34
    },
    "colab_type": "code",
    "executionInfo": {
     "elapsed": 722,
     "status": "ok",
     "timestamp": 1566419251973,
     "user": {
      "displayName": "Martin Soko",
      "photoUrl": "https://lh3.googleusercontent.com/a-/AAuE7mB49KDH9U9UtjIU6-NzSX3GgsCcCcSc0iwMPsLF=s64",
      "userId": "09674850801791942615"
     },
     "user_tz": 180
    },
    "id": "8fIPcAsy3OZY",
    "outputId": "a7013c65-7cc5-43dc-b86a-f1313a7101be"
   },
   "outputs": [
    {
     "data": {
      "text/plain": [
       "[-10, -9, -8, -7, -6, -5, -4, -3, -2, -1, 0, 1, 2, 3, 4, 5, 6, 7, 8, 9]"
      ]
     },
     "execution_count": 9,
     "metadata": {},
     "output_type": "execute_result"
    }
   ],
   "source": [
    "x2"
   ]
  },
  {
   "cell_type": "code",
   "execution_count": 10,
   "metadata": {
    "colab": {
     "base_uri": "https://localhost:8080/",
     "height": 34
    },
    "colab_type": "code",
    "executionInfo": {
     "elapsed": 598,
     "status": "ok",
     "timestamp": 1566419260493,
     "user": {
      "displayName": "Martin Soko",
      "photoUrl": "https://lh3.googleusercontent.com/a-/AAuE7mB49KDH9U9UtjIU6-NzSX3GgsCcCcSc0iwMPsLF=s64",
      "userId": "09674850801791942615"
     },
     "user_tz": 180
    },
    "id": "vx7KWWjv21d5",
    "outputId": "1242cf9b-6d3f-4ffc-d10d-ff70302971b1"
   },
   "outputs": [
    {
     "data": {
      "text/plain": [
       "list"
      ]
     },
     "execution_count": 10,
     "metadata": {},
     "output_type": "execute_result"
    }
   ],
   "source": [
    "type(x2)"
   ]
  },
  {
   "cell_type": "code",
   "execution_count": 11,
   "metadata": {
    "colab": {
     "base_uri": "https://localhost:8080/",
     "height": 34
    },
    "colab_type": "code",
    "executionInfo": {
     "elapsed": 902,
     "status": "ok",
     "timestamp": 1566419214219,
     "user": {
      "displayName": "Martin Soko",
      "photoUrl": "https://lh3.googleusercontent.com/a-/AAuE7mB49KDH9U9UtjIU6-NzSX3GgsCcCcSc0iwMPsLF=s64",
      "userId": "09674850801791942615"
     },
     "user_tz": 180
    },
    "id": "hzxEi3GM29B3",
    "outputId": "d7de439c-04b3-4b49-95ea-3d845aaae4e8"
   },
   "outputs": [
    {
     "data": {
      "text/plain": [
       "numpy.ndarray"
      ]
     },
     "execution_count": 11,
     "metadata": {},
     "output_type": "execute_result"
    }
   ],
   "source": [
    "type(x)"
   ]
  },
  {
   "cell_type": "markdown",
   "metadata": {},
   "source": [
    "Vemos la diferencia entre `range()` y `linspace()`?\n",
    "\n",
    "\n",
    "`range` nos retorna una lista mientras que `linspace` nos devuelve un array"
   ]
  },
  {
   "cell_type": "markdown",
   "metadata": {
    "colab_type": "text",
    "id": "78QXvpCo6QUD"
   },
   "source": [
    "Recordemos la fórmula de una recta:\n",
    "$$ y = a · x + b $$"
   ]
  },
  {
   "cell_type": "code",
   "execution_count": 12,
   "metadata": {
    "colab": {
     "base_uri": "https://localhost:8080/",
     "height": 34
    },
    "colab_type": "code",
    "executionInfo": {
     "elapsed": 623,
     "status": "ok",
     "timestamp": 1566419368326,
     "user": {
      "displayName": "Martin Soko",
      "photoUrl": "https://lh3.googleusercontent.com/a-/AAuE7mB49KDH9U9UtjIU6-NzSX3GgsCcCcSc0iwMPsLF=s64",
      "userId": "09674850801791942615"
     },
     "user_tz": 180
    },
    "id": "9Ais1Zfl3oIk",
    "outputId": "849d4597-d36d-43fb-98d4-9a1928a74c4d"
   },
   "outputs": [
    {
     "data": {
      "text/plain": [
       "['hola', 'chau', 'hola', 'chau']"
      ]
     },
     "execution_count": 12,
     "metadata": {},
     "output_type": "execute_result"
    }
   ],
   "source": [
    "['hola', 'chau'] * 2"
   ]
  },
  {
   "cell_type": "code",
   "execution_count": 13,
   "metadata": {
    "colab": {},
    "colab_type": "code",
    "id": "m3eFtkoo6Zf6"
   },
   "outputs": [],
   "source": [
    "# Definimos los parámetros de la recta\n",
    "a = -2\n",
    "b = 3"
   ]
  },
  {
   "cell_type": "code",
   "execution_count": 14,
   "metadata": {
    "colab": {
     "base_uri": "https://localhost:8080/",
     "height": 246
    },
    "colab_type": "code",
    "executionInfo": {
     "elapsed": 762,
     "status": "ok",
     "timestamp": 1566419391952,
     "user": {
      "displayName": "Martin Soko",
      "photoUrl": "https://lh3.googleusercontent.com/a-/AAuE7mB49KDH9U9UtjIU6-NzSX3GgsCcCcSc0iwMPsLF=s64",
      "userId": "09674850801791942615"
     },
     "user_tz": 180
    },
    "id": "r3XkdjS06G6D",
    "outputId": "026ac1b9-9f7a-4558-eef8-96b0ba7d5a4d"
   },
   "outputs": [
    {
     "data": {
      "text/plain": [
       "array([ 23.  ,  22.18,  21.36,  20.56,  19.74,  18.92,  18.1 ,  17.28,\n",
       "        16.46,  15.66,  14.84,  14.02,  13.2 ,  12.38,  11.58,  10.76,\n",
       "         9.94,   9.12,   8.3 ,   7.48,   6.68,   5.86,   5.04,   4.22,\n",
       "         3.4 ,   2.6 ,   1.78,   0.96,   0.14,  -0.68,  -1.48,  -2.3 ,\n",
       "        -3.12,  -3.94,  -4.76,  -5.58,  -6.38,  -7.2 ,  -8.02,  -8.84,\n",
       "        -9.66, -10.46, -11.28, -12.1 , -12.92, -13.74, -14.56, -15.36,\n",
       "       -16.18, -17.  ])"
      ]
     },
     "execution_count": 14,
     "metadata": {},
     "output_type": "execute_result"
    }
   ],
   "source": [
    "# Creamos y a partir de la función\n",
    "y = a*x + b\n",
    "y"
   ]
  },
  {
   "cell_type": "markdown",
   "metadata": {
    "colab_type": "text",
    "id": "NUNSn5Z46l4y"
   },
   "source": [
    "La manera más rápida y fácil de graficar es usar el método plot de matplotlib"
   ]
  },
  {
   "cell_type": "code",
   "execution_count": 15,
   "metadata": {
    "colab": {
     "base_uri": "https://localhost:8080/",
     "height": 34
    },
    "colab_type": "code",
    "executionInfo": {
     "elapsed": 620,
     "status": "ok",
     "timestamp": 1566419476497,
     "user": {
      "displayName": "Martin Soko",
      "photoUrl": "https://lh3.googleusercontent.com/a-/AAuE7mB49KDH9U9UtjIU6-NzSX3GgsCcCcSc0iwMPsLF=s64",
      "userId": "09674850801791942615"
     },
     "user_tz": 180
    },
    "id": "XnfdxVdT4DD5",
    "outputId": "cb937d5c-ac41-4810-9c37-01b18392fd04"
   },
   "outputs": [
    {
     "data": {
      "text/plain": [
       "(50, 50)"
      ]
     },
     "execution_count": 15,
     "metadata": {},
     "output_type": "execute_result"
    }
   ],
   "source": [
    "len(x), len(y)"
   ]
  },
  {
   "cell_type": "code",
   "execution_count": 18,
   "metadata": {
    "colab": {
     "base_uri": "https://localhost:8080/",
     "height": 287
    },
    "colab_type": "code",
    "executionInfo": {
     "elapsed": 763,
     "status": "ok",
     "timestamp": 1566419409771,
     "user": {
      "displayName": "Martin Soko",
      "photoUrl": "https://lh3.googleusercontent.com/a-/AAuE7mB49KDH9U9UtjIU6-NzSX3GgsCcCcSc0iwMPsLF=s64",
      "userId": "09674850801791942615"
     },
     "user_tz": 180
    },
    "id": "emdqFAYg6uCS",
    "outputId": "59ff86e5-871a-4e55-a1f1-5e0272d7a1c0"
   },
   "outputs": [
    {
     "data": {
      "text/plain": [
       "[<matplotlib.lines.Line2D at 0x8d3da20>]"
      ]
     },
     "execution_count": 18,
     "metadata": {},
     "output_type": "execute_result"
    },
    {
     "data": {
      "image/png": "[encoded data removed]",
      "text/plain": [
       "<Figure size 432x288 with 1 Axes>"
      ]
     },
     "metadata": {},
     "output_type": "display_data"
    }
   ],
   "source": [
    "plt.plot(x, y)\n"
   ]
  },
  {
   "cell_type": "markdown",
   "metadata": {
    "colab_type": "text",
    "id": "zKWjZwvm6vJq"
   },
   "source": [
    "Generamos nuestro primer gráfico!\n",
    "Ahora vamos a mejorarlo un poco."
   ]
  },
  {
   "cell_type": "code",
   "execution_count": 20,
   "metadata": {
    "colab": {
     "base_uri": "https://localhost:8080/",
     "height": 269
    },
    "colab_type": "code",
    "executionInfo": {
     "elapsed": 779,
     "status": "ok",
     "timestamp": 1566419694853,
     "user": {
      "displayName": "Martin Soko",
      "photoUrl": "https://lh3.googleusercontent.com/a-/AAuE7mB49KDH9U9UtjIU6-NzSX3GgsCcCcSc0iwMPsLF=s64",
      "userId": "09674850801791942615"
     },
     "user_tz": 180
    },
    "id": "JYpZvlrB67NS",
    "outputId": "b0a96952-13ba-4fe6-afce-50dbbc8f4d18"
   },
   "outputs": [
    {
     "data": {
      "image/png": "[encoded data removed]",
      "text/plain": [
       "<Figure size 432x288 with 1 Axes>"
      ]
     },
     "metadata": {},
     "output_type": "display_data"
    }
   ],
   "source": [
    "# Generamos el mismo gráfico que antes\n",
    "plt.plot(x, y)\n",
    "# Ahora le agregamos una grilla\n",
    "plt.grid(True)"
   ]
  },
  {
   "cell_type": "code",
   "execution_count": 24,
   "metadata": {
    "colab": {
     "base_uri": "https://localhost:8080/",
     "height": 312
    },
    "colab_type": "code",
    "executionInfo": {
     "elapsed": 952,
     "status": "ok",
     "timestamp": 1566419703800,
     "user": {
      "displayName": "Martin Soko",
      "photoUrl": "https://lh3.googleusercontent.com/a-/AAuE7mB49KDH9U9UtjIU6-NzSX3GgsCcCcSc0iwMPsLF=s64",
      "userId": "09674850801791942615"
     },
     "user_tz": 180
    },
    "id": "BM4oeG7A6_0z",
    "outputId": "90e6e2cf-1cfb-45a9-8ee7-66882c07da16"
   },
   "outputs": [
    {
     "data": {
      "text/plain": [
       "Text(0,0.5,'y')"
      ]
     },
     "execution_count": 24,
     "metadata": {},
     "output_type": "execute_result"
    },
    {
     "data": {
      "image/png": "[encoded data removed]",
      "text/plain": [
       "<Figure size 432x288 with 1 Axes>"
      ]
     },
     "metadata": {},
     "output_type": "display_data"
    }
   ],
   "source": [
    "# Generamos el mismo gráfico que antes\n",
    "plt.plot(x, y)\n",
    "# Ahora le agregamos una grilla, un título y los nombres de los ejes\n",
    "plt.grid(True)\n",
    "plt.title('y = ax + b')\n",
    "plt.xlabel('x')\n",
    "plt.ylabel('y')"
   ]
  },
  {
   "cell_type": "markdown",
   "metadata": {
    "colab_type": "text",
    "id": "5ZGLNbGH7agq"
   },
   "source": [
    "Ejercicio: graficar un polinomio de grado 2 ($y=ax^2+bx+c$) con los coeficientes que ustedes quieran, para los valores de x desde el -5 al 15."
   ]
  },
  {
   "cell_type": "code",
   "execution_count": 28,
   "metadata": {
    "colab": {},
    "colab_type": "code",
    "id": "bCeV0WfB8NIC"
   },
   "outputs": [
    {
     "data": {
      "text/plain": [
       "array([-5.        , -4.59183673, -4.18367347, -3.7755102 , -3.36734694,\n",
       "       -2.95918367, -2.55102041, -2.14285714, -1.73469388, -1.32653061,\n",
       "       -0.91836735, -0.51020408, -0.10204082,  0.30612245,  0.71428571,\n",
       "        1.12244898,  1.53061224,  1.93877551,  2.34693878,  2.75510204,\n",
       "        3.16326531,  3.57142857,  3.97959184,  4.3877551 ,  4.79591837,\n",
       "        5.20408163,  5.6122449 ,  6.02040816,  6.42857143,  6.83673469,\n",
       "        7.24489796,  7.65306122,  8.06122449,  8.46938776,  8.87755102,\n",
       "        9.28571429,  9.69387755, 10.10204082, 10.51020408, 10.91836735,\n",
       "       11.32653061, 11.73469388, 12.14285714, 12.55102041, 12.95918367,\n",
       "       13.36734694, 13.7755102 , 14.18367347, 14.59183673, 15.        ])"
      ]
     },
     "execution_count": 28,
     "metadata": {},
     "output_type": "execute_result"
    }
   ],
   "source": [
    "x = np.linspace(-5,15,50)\n",
    "x"
   ]
  },
  {
   "cell_type": "code",
   "execution_count": 26,
   "metadata": {
    "colab": {},
    "colab_type": "code",
    "id": "vFfvgZ-S8iru"
   },
   "outputs": [],
   "source": [
    "a = 1\n",
    "b = -2\n",
    "c = 3"
   ]
  },
  {
   "cell_type": "code",
   "execution_count": 29,
   "metadata": {
    "colab": {},
    "colab_type": "code",
    "id": "ZEU9TYlZ8Yaz"
   },
   "outputs": [
    {
     "data": {
      "text/plain": [
       "array([ 38.        ,  33.26863807,  28.87047064,  24.80549771,\n",
       "        21.07371928,  17.67513536,  14.60974594,  11.87755102,\n",
       "         9.4785506 ,   7.41274469,   5.68013328,   4.28071637,\n",
       "         3.21449396,   2.48146606,   2.08163265,   2.01499375,\n",
       "         2.28154935,   2.88129946,   3.81424406,   5.08038317,\n",
       "         6.67971678,   8.6122449 ,  10.87796751,  13.47688463,\n",
       "        16.40899625,  19.67430237,  23.272803  ,  27.20449813,\n",
       "        31.46938776,  36.06747189,  40.99875052,  46.26322366,\n",
       "        51.8608913 ,  57.79175344,  64.05581008,  70.65306122,\n",
       "        77.58350687,  84.84714702,  92.44398167, 100.37401083,\n",
       "       108.63723449, 117.23365264, 126.16326531, 135.42607247,\n",
       "       145.02207414, 154.9512703 , 165.21366097, 175.80924615,\n",
       "       186.73802582, 198.        ])"
      ]
     },
     "execution_count": 29,
     "metadata": {},
     "output_type": "execute_result"
    }
   ],
   "source": [
    "y = a*x**2 + b*x + c\n",
    "y"
   ]
  },
  {
   "cell_type": "code",
   "execution_count": 40,
   "metadata": {
    "colab": {
     "base_uri": "https://localhost:8080/",
     "height": 312
    },
    "colab_type": "code",
    "executionInfo": {
     "elapsed": 621,
     "status": "ok",
     "timestamp": 1566420826537,
     "user": {
      "displayName": "Martin Soko",
      "photoUrl": "https://lh3.googleusercontent.com/a-/AAuE7mB49KDH9U9UtjIU6-NzSX3GgsCcCcSc0iwMPsLF=s64",
      "userId": "09674850801791942615"
     },
     "user_tz": 180
    },
    "id": "3eJ5Jeun8Kur",
    "outputId": "9928ba50-03dd-4beb-f461-e445f44b0eac"
   },
   "outputs": [
    {
     "data": {
      "text/plain": [
       "(10, 50)"
      ]
     },
     "execution_count": 40,
     "metadata": {},
     "output_type": "execute_result"
    },
    {
     "data": {
      "image/png": "[encoded data removed]",
      "text/plain": [
       "<Figure size 432x288 with 1 Axes>"
      ]
     },
     "metadata": {},
     "output_type": "display_data"
    }
   ],
   "source": [
    "# Generamos el mismo gráfico que antes\n",
    "plt.plot(x, y)\n",
    "# Ahora le agregamos una grilla, un título y los nombres de los ejes\n",
    "plt.grid(True)\n",
    "plt.title('y = ax2 + bx + c')\n",
    "plt.xlabel('x')\n",
    "plt.ylabel('y')\n",
    "plt.xlim(0, 17)\n",
    "plt.ylim(10, 50)"
   ]
  },
  {
   "cell_type": "markdown",
   "metadata": {
    "colab_type": "text",
    "id": "Qp1JHBXJ8K_7"
   },
   "source": [
    "Ejercicio: graficar la función $tan(\\theta)$ para los valores de $\\theta$ en el intervalo $(-\\pi,\\pi)$"
   ]
  },
  {
   "cell_type": "code",
   "execution_count": 41,
   "metadata": {
    "colab": {
     "base_uri": "https://localhost:8080/",
     "height": 34
    },
    "colab_type": "code",
    "executionInfo": {
     "elapsed": 588,
     "status": "ok",
     "timestamp": 1566421702746,
     "user": {
      "displayName": "Martin Soko",
      "photoUrl": "https://lh3.googleusercontent.com/a-/AAuE7mB49KDH9U9UtjIU6-NzSX3GgsCcCcSc0iwMPsLF=s64",
      "userId": "09674850801791942615"
     },
     "user_tz": 180
    },
    "id": "hC2yKSqNAkmK",
    "outputId": "9cf05fef-c66d-46e3-8ef7-04c5750de464"
   },
   "outputs": [
    {
     "data": {
      "text/plain": [
       "3.141592653589793"
      ]
     },
     "execution_count": 41,
     "metadata": {},
     "output_type": "execute_result"
    }
   ],
   "source": [
    "np.pi\n"
   ]
  },
  {
   "cell_type": "code",
   "execution_count": 43,
   "metadata": {
    "colab": {},
    "colab_type": "code",
    "id": "ayX3Jo4C8esK"
   },
   "outputs": [
    {
     "data": {
      "text/plain": [
       "array([-1.57079633, -1.56450055, -1.55820477, -1.551909  , -1.54561322,\n",
       "       -1.53931744, -1.53302167, -1.52672589, -1.52043011, -1.51413434,\n",
       "       -1.50783856, -1.50154278, -1.495247  , -1.48895123, -1.48265545,\n",
       "       -1.47635967, -1.4700639 , -1.46376812, -1.45747234, -1.45117657,\n",
       "       -1.44488079, -1.43858501, -1.43228924, -1.42599346, -1.41969768,\n",
       "       -1.41340191, -1.40710613, -1.40081035, -1.39451457, -1.3882188 ,\n",
       "       -1.38192302, -1.37562724, -1.36933147, -1.36303569, -1.35673991,\n",
       "       -1.35044414, -1.34414836, -1.33785258, -1.33155681, -1.32526103,\n",
       "       -1.31896525, -1.31266948, -1.3063737 , -1.30007792, -1.29378214,\n",
       "       -1.28748637, -1.28119059, -1.27489481, -1.26859904, -1.26230326,\n",
       "       -1.25600748, -1.24971171, -1.24341593, -1.23712015, -1.23082438,\n",
       "       -1.2245286 , -1.21823282, -1.21193705, -1.20564127, -1.19934549,\n",
       "       -1.19304972, -1.18675394, -1.18045816, -1.17416238, -1.16786661,\n",
       "       -1.16157083, -1.15527505, -1.14897928, -1.1426835 , -1.13638772,\n",
       "       -1.13009195, -1.12379617, -1.11750039, -1.11120462, -1.10490884,\n",
       "       -1.09861306, -1.09231729, -1.08602151, -1.07972573, -1.07342995,\n",
       "       -1.06713418, -1.0608384 , -1.05454262, -1.04824685, -1.04195107,\n",
       "       -1.03565529, -1.02935952, -1.02306374, -1.01676796, -1.01047219,\n",
       "       -1.00417641, -0.99788063, -0.99158486, -0.98528908, -0.9789933 ,\n",
       "       -0.97269753, -0.96640175, -0.96010597, -0.95381019, -0.94751442,\n",
       "       -0.94121864, -0.93492286, -0.92862709, -0.92233131, -0.91603553,\n",
       "       -0.90973976, -0.90344398, -0.8971482 , -0.89085243, -0.88455665,\n",
       "       -0.87826087, -0.8719651 , -0.86566932, -0.85937354, -0.85307776,\n",
       "       -0.84678199, -0.84048621, -0.83419043, -0.82789466, -0.82159888,\n",
       "       -0.8153031 , -0.80900733, -0.80271155, -0.79641577, -0.79012   ,\n",
       "       -0.78382422, -0.77752844, -0.77123267, -0.76493689, -0.75864111,\n",
       "       -0.75234533, -0.74604956, -0.73975378, -0.733458  , -0.72716223,\n",
       "       -0.72086645, -0.71457067, -0.7082749 , -0.70197912, -0.69568334,\n",
       "       -0.68938757, -0.68309179, -0.67679601, -0.67050024, -0.66420446,\n",
       "       -0.65790868, -0.65161291, -0.64531713, -0.63902135, -0.63272557,\n",
       "       -0.6264298 , -0.62013402, -0.61383824, -0.60754247, -0.60124669,\n",
       "       -0.59495091, -0.58865514, -0.58235936, -0.57606358, -0.56976781,\n",
       "       -0.56347203, -0.55717625, -0.55088048, -0.5445847 , -0.53828892,\n",
       "       -0.53199314, -0.52569737, -0.51940159, -0.51310581, -0.50681004,\n",
       "       -0.50051426, -0.49421848, -0.48792271, -0.48162693, -0.47533115,\n",
       "       -0.46903538, -0.4627396 , -0.45644382, -0.45014805, -0.44385227,\n",
       "       -0.43755649, -0.43126071, -0.42496494, -0.41866916, -0.41237338,\n",
       "       -0.40607761, -0.39978183, -0.39348605, -0.38719028, -0.3808945 ,\n",
       "       -0.37459872, -0.36830295, -0.36200717, -0.35571139, -0.34941562,\n",
       "       -0.34311984, -0.33682406, -0.33052829, -0.32423251, -0.31793673,\n",
       "       -0.31164095, -0.30534518, -0.2990494 , -0.29275362, -0.28645785,\n",
       "       -0.28016207, -0.27386629, -0.26757052, -0.26127474, -0.25497896,\n",
       "       -0.24868319, -0.24238741, -0.23609163, -0.22979586, -0.22350008,\n",
       "       -0.2172043 , -0.21090852, -0.20461275, -0.19831697, -0.19202119,\n",
       "       -0.18572542, -0.17942964, -0.17313386, -0.16683809, -0.16054231,\n",
       "       -0.15424653, -0.14795076, -0.14165498, -0.1353592 , -0.12906343,\n",
       "       -0.12276765, -0.11647187, -0.1101761 , -0.10388032, -0.09758454,\n",
       "       -0.09128876, -0.08499299, -0.07869721, -0.07240143, -0.06610566,\n",
       "       -0.05980988, -0.0535141 , -0.04721833, -0.04092255, -0.03462677,\n",
       "       -0.028331  , -0.02203522, -0.01573944, -0.00944367, -0.00314789,\n",
       "        0.00314789,  0.00944367,  0.01573944,  0.02203522,  0.028331  ,\n",
       "        0.03462677,  0.04092255,  0.04721833,  0.0535141 ,  0.05980988,\n",
       "        0.06610566,  0.07240143,  0.07869721,  0.08499299,  0.09128876,\n",
       "        0.09758454,  0.10388032,  0.1101761 ,  0.11647187,  0.12276765,\n",
       "        0.12906343,  0.1353592 ,  0.14165498,  0.14795076,  0.15424653,\n",
       "        0.16054231,  0.16683809,  0.17313386,  0.17942964,  0.18572542,\n",
       "        0.19202119,  0.19831697,  0.20461275,  0.21090852,  0.2172043 ,\n",
       "        0.22350008,  0.22979586,  0.23609163,  0.24238741,  0.24868319,\n",
       "        0.25497896,  0.26127474,  0.26757052,  0.27386629,  0.28016207,\n",
       "        0.28645785,  0.29275362,  0.2990494 ,  0.30534518,  0.31164095,\n",
       "        0.31793673,  0.32423251,  0.33052829,  0.33682406,  0.34311984,\n",
       "        0.34941562,  0.35571139,  0.36200717,  0.36830295,  0.37459872,\n",
       "        0.3808945 ,  0.38719028,  0.39348605,  0.39978183,  0.40607761,\n",
       "        0.41237338,  0.41866916,  0.42496494,  0.43126071,  0.43755649,\n",
       "        0.44385227,  0.45014805,  0.45644382,  0.4627396 ,  0.46903538,\n",
       "        0.47533115,  0.48162693,  0.48792271,  0.49421848,  0.50051426,\n",
       "        0.50681004,  0.51310581,  0.51940159,  0.52569737,  0.53199314,\n",
       "        0.53828892,  0.5445847 ,  0.55088048,  0.55717625,  0.56347203,\n",
       "        0.56976781,  0.57606358,  0.58235936,  0.58865514,  0.59495091,\n",
       "        0.60124669,  0.60754247,  0.61383824,  0.62013402,  0.6264298 ,\n",
       "        0.63272557,  0.63902135,  0.64531713,  0.65161291,  0.65790868,\n",
       "        0.66420446,  0.67050024,  0.67679601,  0.68309179,  0.68938757,\n",
       "        0.69568334,  0.70197912,  0.7082749 ,  0.71457067,  0.72086645,\n",
       "        0.72716223,  0.733458  ,  0.73975378,  0.74604956,  0.75234533,\n",
       "        0.75864111,  0.76493689,  0.77123267,  0.77752844,  0.78382422,\n",
       "        0.79012   ,  0.79641577,  0.80271155,  0.80900733,  0.8153031 ,\n",
       "        0.82159888,  0.82789466,  0.83419043,  0.84048621,  0.84678199,\n",
       "        0.85307776,  0.85937354,  0.86566932,  0.8719651 ,  0.87826087,\n",
       "        0.88455665,  0.89085243,  0.8971482 ,  0.90344398,  0.90973976,\n",
       "        0.91603553,  0.92233131,  0.92862709,  0.93492286,  0.94121864,\n",
       "        0.94751442,  0.95381019,  0.96010597,  0.96640175,  0.97269753,\n",
       "        0.9789933 ,  0.98528908,  0.99158486,  0.99788063,  1.00417641,\n",
       "        1.01047219,  1.01676796,  1.02306374,  1.02935952,  1.03565529,\n",
       "        1.04195107,  1.04824685,  1.05454262,  1.0608384 ,  1.06713418,\n",
       "        1.07342995,  1.07972573,  1.08602151,  1.09231729,  1.09861306,\n",
       "        1.10490884,  1.11120462,  1.11750039,  1.12379617,  1.13009195,\n",
       "        1.13638772,  1.1426835 ,  1.14897928,  1.15527505,  1.16157083,\n",
       "        1.16786661,  1.17416238,  1.18045816,  1.18675394,  1.19304972,\n",
       "        1.19934549,  1.20564127,  1.21193705,  1.21823282,  1.2245286 ,\n",
       "        1.23082438,  1.23712015,  1.24341593,  1.24971171,  1.25600748,\n",
       "        1.26230326,  1.26859904,  1.27489481,  1.28119059,  1.28748637,\n",
       "        1.29378214,  1.30007792,  1.3063737 ,  1.31266948,  1.31896525,\n",
       "        1.32526103,  1.33155681,  1.33785258,  1.34414836,  1.35044414,\n",
       "        1.35673991,  1.36303569,  1.36933147,  1.37562724,  1.38192302,\n",
       "        1.3882188 ,  1.39451457,  1.40081035,  1.40710613,  1.41340191,\n",
       "        1.41969768,  1.42599346,  1.43228924,  1.43858501,  1.44488079,\n",
       "        1.45117657,  1.45747234,  1.46376812,  1.4700639 ,  1.47635967,\n",
       "        1.48265545,  1.48895123,  1.495247  ,  1.50154278,  1.50783856,\n",
       "        1.51413434,  1.52043011,  1.52672589,  1.53302167,  1.53931744,\n",
       "        1.54561322,  1.551909  ,  1.55820477,  1.56450055,  1.57079633])"
      ]
     },
     "execution_count": 43,
     "metadata": {},
     "output_type": "execute_result"
    }
   ],
   "source": [
    "tetha = np.linspace(-np.pi/2, np.pi/2, 500)\n",
    "tetha"
   ]
  },
  {
   "cell_type": "code",
   "execution_count": 44,
   "metadata": {
    "colab": {
     "base_uri": "https://localhost:8080/",
     "height": 34
    },
    "colab_type": "code",
    "executionInfo": {
     "elapsed": 716,
     "status": "ok",
     "timestamp": 1566421862884,
     "user": {
      "displayName": "Martin Soko",
      "photoUrl": "https://lh3.googleusercontent.com/a-/AAuE7mB49KDH9U9UtjIU6-NzSX3GgsCcCcSc0iwMPsLF=s64",
      "userId": "09674850801791942615"
     },
     "user_tz": 180
    },
    "id": "0hyfs0CFBKOa",
    "outputId": "fc7e87cb-d655-4302-a54c-8190e14fc03c"
   },
   "outputs": [
    {
     "data": {
      "text/plain": [
       "1.633123935319537e+16"
      ]
     },
     "execution_count": 44,
     "metadata": {},
     "output_type": "execute_result"
    }
   ],
   "source": [
    "np.tan(np.pi/2)"
   ]
  },
  {
   "cell_type": "code",
   "execution_count": 45,
   "metadata": {
    "colab": {},
    "colab_type": "code",
    "id": "E1NZBbGhBbUk"
   },
   "outputs": [
    {
     "data": {
      "text/plain": [
       "array([-1.57079633, -1.56450055, -1.55820477, -1.551909  , -1.54561322,\n",
       "       -1.53931744, -1.53302167, -1.52672589, -1.52043011, -1.51413434,\n",
       "       -1.50783856, -1.50154278, -1.495247  , -1.48895123, -1.48265545,\n",
       "       -1.47635967, -1.4700639 , -1.46376812, -1.45747234, -1.45117657,\n",
       "       -1.44488079, -1.43858501, -1.43228924, -1.42599346, -1.41969768,\n",
       "       -1.41340191, -1.40710613, -1.40081035, -1.39451457, -1.3882188 ,\n",
       "       -1.38192302, -1.37562724, -1.36933147, -1.36303569, -1.35673991,\n",
       "       -1.35044414, -1.34414836, -1.33785258, -1.33155681, -1.32526103,\n",
       "       -1.31896525, -1.31266948, -1.3063737 , -1.30007792, -1.29378214,\n",
       "       -1.28748637, -1.28119059, -1.27489481, -1.26859904, -1.26230326,\n",
       "       -1.25600748, -1.24971171, -1.24341593, -1.23712015, -1.23082438,\n",
       "       -1.2245286 , -1.21823282, -1.21193705, -1.20564127, -1.19934549,\n",
       "       -1.19304972, -1.18675394, -1.18045816, -1.17416238, -1.16786661,\n",
       "       -1.16157083, -1.15527505, -1.14897928, -1.1426835 , -1.13638772,\n",
       "       -1.13009195, -1.12379617, -1.11750039, -1.11120462, -1.10490884,\n",
       "       -1.09861306, -1.09231729, -1.08602151, -1.07972573, -1.07342995,\n",
       "       -1.06713418, -1.0608384 , -1.05454262, -1.04824685, -1.04195107,\n",
       "       -1.03565529, -1.02935952, -1.02306374, -1.01676796, -1.01047219,\n",
       "       -1.00417641, -0.99788063, -0.99158486, -0.98528908, -0.9789933 ,\n",
       "       -0.97269753, -0.96640175, -0.96010597, -0.95381019, -0.94751442,\n",
       "       -0.94121864, -0.93492286, -0.92862709, -0.92233131, -0.91603553,\n",
       "       -0.90973976, -0.90344398, -0.8971482 , -0.89085243, -0.88455665,\n",
       "       -0.87826087, -0.8719651 , -0.86566932, -0.85937354, -0.85307776,\n",
       "       -0.84678199, -0.84048621, -0.83419043, -0.82789466, -0.82159888,\n",
       "       -0.8153031 , -0.80900733, -0.80271155, -0.79641577, -0.79012   ,\n",
       "       -0.78382422, -0.77752844, -0.77123267, -0.76493689, -0.75864111,\n",
       "       -0.75234533, -0.74604956, -0.73975378, -0.733458  , -0.72716223,\n",
       "       -0.72086645, -0.71457067, -0.7082749 , -0.70197912, -0.69568334,\n",
       "       -0.68938757, -0.68309179, -0.67679601, -0.67050024, -0.66420446,\n",
       "       -0.65790868, -0.65161291, -0.64531713, -0.63902135, -0.63272557,\n",
       "       -0.6264298 , -0.62013402, -0.61383824, -0.60754247, -0.60124669,\n",
       "       -0.59495091, -0.58865514, -0.58235936, -0.57606358, -0.56976781,\n",
       "       -0.56347203, -0.55717625, -0.55088048, -0.5445847 , -0.53828892,\n",
       "       -0.53199314, -0.52569737, -0.51940159, -0.51310581, -0.50681004,\n",
       "       -0.50051426, -0.49421848, -0.48792271, -0.48162693, -0.47533115,\n",
       "       -0.46903538, -0.4627396 , -0.45644382, -0.45014805, -0.44385227,\n",
       "       -0.43755649, -0.43126071, -0.42496494, -0.41866916, -0.41237338,\n",
       "       -0.40607761, -0.39978183, -0.39348605, -0.38719028, -0.3808945 ,\n",
       "       -0.37459872, -0.36830295, -0.36200717, -0.35571139, -0.34941562,\n",
       "       -0.34311984, -0.33682406, -0.33052829, -0.32423251, -0.31793673,\n",
       "       -0.31164095, -0.30534518, -0.2990494 , -0.29275362, -0.28645785,\n",
       "       -0.28016207, -0.27386629, -0.26757052, -0.26127474, -0.25497896,\n",
       "       -0.24868319, -0.24238741, -0.23609163, -0.22979586, -0.22350008,\n",
       "       -0.2172043 , -0.21090852, -0.20461275, -0.19831697, -0.19202119,\n",
       "       -0.18572542, -0.17942964, -0.17313386, -0.16683809, -0.16054231,\n",
       "       -0.15424653, -0.14795076, -0.14165498, -0.1353592 , -0.12906343,\n",
       "       -0.12276765, -0.11647187, -0.1101761 , -0.10388032, -0.09758454,\n",
       "       -0.09128876, -0.08499299, -0.07869721, -0.07240143, -0.06610566,\n",
       "       -0.05980988, -0.0535141 , -0.04721833, -0.04092255, -0.03462677,\n",
       "       -0.028331  , -0.02203522, -0.01573944, -0.00944367, -0.00314789,\n",
       "        0.00314789,  0.00944367,  0.01573944,  0.02203522,  0.028331  ,\n",
       "        0.03462677,  0.04092255,  0.04721833,  0.0535141 ,  0.05980988,\n",
       "        0.06610566,  0.07240143,  0.07869721,  0.08499299,  0.09128876,\n",
       "        0.09758454,  0.10388032,  0.1101761 ,  0.11647187,  0.12276765,\n",
       "        0.12906343,  0.1353592 ,  0.14165498,  0.14795076,  0.15424653,\n",
       "        0.16054231,  0.16683809,  0.17313386,  0.17942964,  0.18572542,\n",
       "        0.19202119,  0.19831697,  0.20461275,  0.21090852,  0.2172043 ,\n",
       "        0.22350008,  0.22979586,  0.23609163,  0.24238741,  0.24868319,\n",
       "        0.25497896,  0.26127474,  0.26757052,  0.27386629,  0.28016207,\n",
       "        0.28645785,  0.29275362,  0.2990494 ,  0.30534518,  0.31164095,\n",
       "        0.31793673,  0.32423251,  0.33052829,  0.33682406,  0.34311984,\n",
       "        0.34941562,  0.35571139,  0.36200717,  0.36830295,  0.37459872,\n",
       "        0.3808945 ,  0.38719028,  0.39348605,  0.39978183,  0.40607761,\n",
       "        0.41237338,  0.41866916,  0.42496494,  0.43126071,  0.43755649,\n",
       "        0.44385227,  0.45014805,  0.45644382,  0.4627396 ,  0.46903538,\n",
       "        0.47533115,  0.48162693,  0.48792271,  0.49421848,  0.50051426,\n",
       "        0.50681004,  0.51310581,  0.51940159,  0.52569737,  0.53199314,\n",
       "        0.53828892,  0.5445847 ,  0.55088048,  0.55717625,  0.56347203,\n",
       "        0.56976781,  0.57606358,  0.58235936,  0.58865514,  0.59495091,\n",
       "        0.60124669,  0.60754247,  0.61383824,  0.62013402,  0.6264298 ,\n",
       "        0.63272557,  0.63902135,  0.64531713,  0.65161291,  0.65790868,\n",
       "        0.66420446,  0.67050024,  0.67679601,  0.68309179,  0.68938757,\n",
       "        0.69568334,  0.70197912,  0.7082749 ,  0.71457067,  0.72086645,\n",
       "        0.72716223,  0.733458  ,  0.73975378,  0.74604956,  0.75234533,\n",
       "        0.75864111,  0.76493689,  0.77123267,  0.77752844,  0.78382422,\n",
       "        0.79012   ,  0.79641577,  0.80271155,  0.80900733,  0.8153031 ,\n",
       "        0.82159888,  0.82789466,  0.83419043,  0.84048621,  0.84678199,\n",
       "        0.85307776,  0.85937354,  0.86566932,  0.8719651 ,  0.87826087,\n",
       "        0.88455665,  0.89085243,  0.8971482 ,  0.90344398,  0.90973976,\n",
       "        0.91603553,  0.92233131,  0.92862709,  0.93492286,  0.94121864,\n",
       "        0.94751442,  0.95381019,  0.96010597,  0.96640175,  0.97269753,\n",
       "        0.9789933 ,  0.98528908,  0.99158486,  0.99788063,  1.00417641,\n",
       "        1.01047219,  1.01676796,  1.02306374,  1.02935952,  1.03565529,\n",
       "        1.04195107,  1.04824685,  1.05454262,  1.0608384 ,  1.06713418,\n",
       "        1.07342995,  1.07972573,  1.08602151,  1.09231729,  1.09861306,\n",
       "        1.10490884,  1.11120462,  1.11750039,  1.12379617,  1.13009195,\n",
       "        1.13638772,  1.1426835 ,  1.14897928,  1.15527505,  1.16157083,\n",
       "        1.16786661,  1.17416238,  1.18045816,  1.18675394,  1.19304972,\n",
       "        1.19934549,  1.20564127,  1.21193705,  1.21823282,  1.2245286 ,\n",
       "        1.23082438,  1.23712015,  1.24341593,  1.24971171,  1.25600748,\n",
       "        1.26230326,  1.26859904,  1.27489481,  1.28119059,  1.28748637,\n",
       "        1.29378214,  1.30007792,  1.3063737 ,  1.31266948,  1.31896525,\n",
       "        1.32526103,  1.33155681,  1.33785258,  1.34414836,  1.35044414,\n",
       "        1.35673991,  1.36303569,  1.36933147,  1.37562724,  1.38192302,\n",
       "        1.3882188 ,  1.39451457,  1.40081035,  1.40710613,  1.41340191,\n",
       "        1.41969768,  1.42599346,  1.43228924,  1.43858501,  1.44488079,\n",
       "        1.45117657,  1.45747234,  1.46376812,  1.4700639 ,  1.47635967,\n",
       "        1.48265545,  1.48895123,  1.495247  ,  1.50154278,  1.50783856,\n",
       "        1.51413434,  1.52043011,  1.52672589,  1.53302167,  1.53931744,\n",
       "        1.54561322,  1.551909  ,  1.55820477,  1.56450055,  1.57079633])"
      ]
     },
     "execution_count": 45,
     "metadata": {},
     "output_type": "execute_result"
    }
   ],
   "source": [
    "tetha"
   ]
  },
  {
   "cell_type": "code",
   "execution_count": 46,
   "metadata": {
    "colab": {},
    "colab_type": "code",
    "id": "OfoAOvaMAn7P"
   },
   "outputs": [],
   "source": [
    "y = np.tan(tetha)"
   ]
  },
  {
   "cell_type": "code",
   "execution_count": 47,
   "metadata": {
    "colab": {},
    "colab_type": "code",
    "id": "gmyAuK9PA3uf"
   },
   "outputs": [
    {
     "data": {
      "text/plain": [
       "array([-1.63312394e+16, -1.58834535e+02, -7.94141194e+01, -5.29392485e+01,\n",
       "       -3.97007636e+01, -3.17568330e+01, -2.64601794e+01, -2.26762556e+01,\n",
       "       -1.98377876e+01, -1.76296234e+01, -1.58626719e+01, -1.44166020e+01,\n",
       "       -1.32111934e+01, -1.21909087e+01, -1.13160783e+01, -1.05576113e+01,\n",
       "       -9.89368936e+00, -9.30762802e+00, -8.78645036e+00, -8.31991146e+00,\n",
       "       -7.89981538e+00, -7.51952732e+00, -7.17361878e+00, -6.85760535e+00,\n",
       "       -6.56775001e+00, -6.30091367e+00, -6.05444016e+00, -5.82606682e+00,\n",
       "       -5.61385422e+00, -5.41613043e+00, -5.23144643e+00, -5.05854019e+00,\n",
       "       -4.89630742e+00, -4.74377765e+00, -4.60009463e+00, -4.46449992e+00,\n",
       "       -4.33631938e+00, -4.21495171e+00, -4.09985894e+00, -3.99055824e+00,\n",
       "       -3.88661507e+00, -3.78763730e+00, -3.69327012e+00, -3.60319172e+00,\n",
       "       -3.51710956e+00, -3.43475709e+00, -3.35589092e+00, -3.28028841e+00,\n",
       "       -3.20774543e+00, -3.13807454e+00, -3.07110326e+00, -3.00667268e+00,\n",
       "       -2.94463606e+00, -2.88485778e+00, -2.82721222e+00, -2.77158292e+00,\n",
       "       -2.71786174e+00, -2.66594810e+00, -2.61574838e+00, -2.56717529e+00,\n",
       "       -2.52014736e+00, -2.47458845e+00, -2.43042735e+00, -2.38759736e+00,\n",
       "       -2.34603594e+00, -2.30568439e+00, -2.26648760e+00, -2.22839370e+00,\n",
       "       -2.19135390e+00, -2.15532223e+00, -2.12025534e+00, -2.08611232e+00,\n",
       "       -2.05285453e+00, -2.02044545e+00, -1.98885053e+00, -1.95803707e+00,\n",
       "       -1.92797405e+00, -1.89863211e+00, -1.86998336e+00, -1.84200134e+00,\n",
       "       -1.81466089e+00, -1.78793810e+00, -1.76181024e+00, -1.73625564e+00,\n",
       "       -1.71125368e+00, -1.68678472e+00, -1.66283000e+00, -1.63937165e+00,\n",
       "       -1.61639259e+00, -1.59387652e+00, -1.57180784e+00, -1.55017166e+00,\n",
       "       -1.52895373e+00, -1.50814039e+00, -1.48771858e+00, -1.46767578e+00,\n",
       "       -1.44800000e+00, -1.42867971e+00, -1.40970390e+00, -1.39106195e+00,\n",
       "       -1.37274369e+00, -1.35473936e+00, -1.33703955e+00, -1.31963525e+00,\n",
       "       -1.30251776e+00, -1.28567873e+00, -1.26911012e+00, -1.25280418e+00,\n",
       "       -1.23675345e+00, -1.22095075e+00, -1.20538914e+00, -1.19006194e+00,\n",
       "       -1.17496272e+00, -1.16008524e+00, -1.14542351e+00, -1.13097174e+00,\n",
       "       -1.11672431e+00, -1.10267582e+00, -1.08882105e+00, -1.07515493e+00,\n",
       "       -1.06167258e+00, -1.04836927e+00, -1.03524043e+00, -1.02228161e+00,\n",
       "       -1.00948854e+00, -9.96857056e-01, -9.84383136e-01, -9.72062879e-01,\n",
       "       -9.59892504e-01, -9.47868344e-01, -9.35986846e-01, -9.24244558e-01,\n",
       "       -9.12638135e-01, -9.01164327e-01, -8.89819981e-01, -8.78602032e-01,\n",
       "       -8.67507506e-01, -8.56533512e-01, -8.45677240e-01, -8.34935959e-01,\n",
       "       -8.24307014e-01, -8.13787822e-01, -8.03375870e-01, -7.93068715e-01,\n",
       "       -7.82863976e-01, -7.72759338e-01, -7.62752546e-01, -7.52841404e-01,\n",
       "       -7.43023771e-01, -7.33297564e-01, -7.23660752e-01, -7.14111353e-01,\n",
       "       -7.04647436e-01, -6.95267120e-01, -6.85968567e-01, -6.76749984e-01,\n",
       "       -6.67609625e-01, -6.58545780e-01, -6.49556785e-01, -6.40641012e-01,\n",
       "       -6.31796871e-01, -6.23022810e-01, -6.14317312e-01, -6.05678895e-01,\n",
       "       -5.97106108e-01, -5.88597535e-01, -5.80151791e-01, -5.71767519e-01,\n",
       "       -5.63443393e-01, -5.55178116e-01, -5.46970417e-01, -5.38819053e-01,\n",
       "       -5.30722807e-01, -5.22680485e-01, -5.14690919e-01, -5.06752966e-01,\n",
       "       -4.98865503e-01, -4.91027430e-01, -4.83237670e-01, -4.75495165e-01,\n",
       "       -4.67798878e-01, -4.60147792e-01, -4.52540909e-01, -4.44977249e-01,\n",
       "       -4.37455851e-01, -4.29975768e-01, -4.22536074e-01, -4.15135858e-01,\n",
       "       -4.07774224e-01, -4.00450293e-01, -3.93163198e-01, -3.85912089e-01,\n",
       "       -3.78696131e-01, -3.71514499e-01, -3.64366385e-01, -3.57250991e-01,\n",
       "       -3.50167534e-01, -3.43115240e-01, -3.36093349e-01, -3.29101112e-01,\n",
       "       -3.22137791e-01, -3.15202657e-01, -3.08294995e-01, -3.01414095e-01,\n",
       "       -2.94559262e-01, -2.87729805e-01, -2.80925048e-01, -2.74144318e-01,\n",
       "       -2.67386955e-01, -2.60652305e-01, -2.53939722e-01, -2.47248569e-01,\n",
       "       -2.40578215e-01, -2.33928036e-01, -2.27297418e-01, -2.20685749e-01,\n",
       "       -2.14092427e-01, -2.07516856e-01, -2.00958445e-01, -1.94416607e-01,\n",
       "       -1.87890765e-01, -1.81380344e-01, -1.74884776e-01, -1.68403495e-01,\n",
       "       -1.61935943e-01, -1.55481565e-01, -1.49039812e-01, -1.42610136e-01,\n",
       "       -1.36191995e-01, -1.29784852e-01, -1.23388170e-01, -1.17001420e-01,\n",
       "       -1.10624071e-01, -1.04255600e-01, -9.78954833e-02, -9.15432019e-02,\n",
       "       -8.51982384e-02, -7.88600781e-02, -7.25282084e-02, -6.62021186e-02,\n",
       "       -5.98813001e-02, -5.35652457e-02, -4.72534500e-02, -4.09454086e-02,\n",
       "       -3.46406187e-02, -2.83385782e-02, -2.20387861e-02, -1.57407420e-02,\n",
       "       -9.44394604e-03, -3.14789883e-03,  3.14789883e-03,  9.44394604e-03,\n",
       "        1.57407420e-02,  2.20387861e-02,  2.83385782e-02,  3.46406187e-02,\n",
       "        4.09454086e-02,  4.72534500e-02,  5.35652457e-02,  5.98813001e-02,\n",
       "        6.62021186e-02,  7.25282084e-02,  7.88600781e-02,  8.51982384e-02,\n",
       "        9.15432019e-02,  9.78954833e-02,  1.04255600e-01,  1.10624071e-01,\n",
       "        1.17001420e-01,  1.23388170e-01,  1.29784852e-01,  1.36191995e-01,\n",
       "        1.42610136e-01,  1.49039812e-01,  1.55481565e-01,  1.61935943e-01,\n",
       "        1.68403495e-01,  1.74884776e-01,  1.81380344e-01,  1.87890765e-01,\n",
       "        1.94416607e-01,  2.00958445e-01,  2.07516856e-01,  2.14092427e-01,\n",
       "        2.20685749e-01,  2.27297418e-01,  2.33928036e-01,  2.40578215e-01,\n",
       "        2.47248569e-01,  2.53939722e-01,  2.60652305e-01,  2.67386955e-01,\n",
       "        2.74144318e-01,  2.80925048e-01,  2.87729805e-01,  2.94559262e-01,\n",
       "        3.01414095e-01,  3.08294995e-01,  3.15202657e-01,  3.22137791e-01,\n",
       "        3.29101112e-01,  3.36093349e-01,  3.43115240e-01,  3.50167534e-01,\n",
       "        3.57250991e-01,  3.64366385e-01,  3.71514499e-01,  3.78696131e-01,\n",
       "        3.85912089e-01,  3.93163198e-01,  4.00450293e-01,  4.07774224e-01,\n",
       "        4.15135858e-01,  4.22536074e-01,  4.29975768e-01,  4.37455851e-01,\n",
       "        4.44977249e-01,  4.52540909e-01,  4.60147792e-01,  4.67798878e-01,\n",
       "        4.75495165e-01,  4.83237670e-01,  4.91027430e-01,  4.98865503e-01,\n",
       "        5.06752966e-01,  5.14690919e-01,  5.22680485e-01,  5.30722807e-01,\n",
       "        5.38819053e-01,  5.46970417e-01,  5.55178116e-01,  5.63443393e-01,\n",
       "        5.71767519e-01,  5.80151791e-01,  5.88597535e-01,  5.97106108e-01,\n",
       "        6.05678895e-01,  6.14317312e-01,  6.23022810e-01,  6.31796871e-01,\n",
       "        6.40641012e-01,  6.49556785e-01,  6.58545780e-01,  6.67609625e-01,\n",
       "        6.76749984e-01,  6.85968567e-01,  6.95267120e-01,  7.04647436e-01,\n",
       "        7.14111353e-01,  7.23660752e-01,  7.33297564e-01,  7.43023771e-01,\n",
       "        7.52841404e-01,  7.62752546e-01,  7.72759338e-01,  7.82863976e-01,\n",
       "        7.93068715e-01,  8.03375870e-01,  8.13787822e-01,  8.24307014e-01,\n",
       "        8.34935959e-01,  8.45677240e-01,  8.56533512e-01,  8.67507506e-01,\n",
       "        8.78602032e-01,  8.89819981e-01,  9.01164327e-01,  9.12638135e-01,\n",
       "        9.24244558e-01,  9.35986846e-01,  9.47868344e-01,  9.59892504e-01,\n",
       "        9.72062879e-01,  9.84383136e-01,  9.96857056e-01,  1.00948854e+00,\n",
       "        1.02228161e+00,  1.03524043e+00,  1.04836927e+00,  1.06167258e+00,\n",
       "        1.07515493e+00,  1.08882105e+00,  1.10267582e+00,  1.11672431e+00,\n",
       "        1.13097174e+00,  1.14542351e+00,  1.16008524e+00,  1.17496272e+00,\n",
       "        1.19006194e+00,  1.20538914e+00,  1.22095075e+00,  1.23675345e+00,\n",
       "        1.25280418e+00,  1.26911012e+00,  1.28567873e+00,  1.30251776e+00,\n",
       "        1.31963525e+00,  1.33703955e+00,  1.35473936e+00,  1.37274369e+00,\n",
       "        1.39106195e+00,  1.40970390e+00,  1.42867971e+00,  1.44800000e+00,\n",
       "        1.46767578e+00,  1.48771858e+00,  1.50814039e+00,  1.52895373e+00,\n",
       "        1.55017166e+00,  1.57180784e+00,  1.59387652e+00,  1.61639259e+00,\n",
       "        1.63937165e+00,  1.66283000e+00,  1.68678472e+00,  1.71125368e+00,\n",
       "        1.73625564e+00,  1.76181024e+00,  1.78793810e+00,  1.81466089e+00,\n",
       "        1.84200134e+00,  1.86998336e+00,  1.89863211e+00,  1.92797405e+00,\n",
       "        1.95803707e+00,  1.98885053e+00,  2.02044545e+00,  2.05285453e+00,\n",
       "        2.08611232e+00,  2.12025534e+00,  2.15532223e+00,  2.19135390e+00,\n",
       "        2.22839370e+00,  2.26648760e+00,  2.30568439e+00,  2.34603594e+00,\n",
       "        2.38759736e+00,  2.43042735e+00,  2.47458845e+00,  2.52014736e+00,\n",
       "        2.56717529e+00,  2.61574838e+00,  2.66594810e+00,  2.71786174e+00,\n",
       "        2.77158292e+00,  2.82721222e+00,  2.88485778e+00,  2.94463606e+00,\n",
       "        3.00667268e+00,  3.07110326e+00,  3.13807454e+00,  3.20774543e+00,\n",
       "        3.28028841e+00,  3.35589092e+00,  3.43475709e+00,  3.51710956e+00,\n",
       "        3.60319172e+00,  3.69327012e+00,  3.78763730e+00,  3.88661507e+00,\n",
       "        3.99055824e+00,  4.09985894e+00,  4.21495171e+00,  4.33631938e+00,\n",
       "        4.46449992e+00,  4.60009463e+00,  4.74377765e+00,  4.89630742e+00,\n",
       "        5.05854019e+00,  5.23144643e+00,  5.41613043e+00,  5.61385422e+00,\n",
       "        5.82606682e+00,  6.05444016e+00,  6.30091367e+00,  6.56775001e+00,\n",
       "        6.85760535e+00,  7.17361878e+00,  7.51952732e+00,  7.89981538e+00,\n",
       "        8.31991146e+00,  8.78645036e+00,  9.30762802e+00,  9.89368936e+00,\n",
       "        1.05576113e+01,  1.13160783e+01,  1.21909087e+01,  1.32111934e+01,\n",
       "        1.44166020e+01,  1.58626719e+01,  1.76296234e+01,  1.98377876e+01,\n",
       "        2.26762556e+01,  2.64601794e+01,  3.17568330e+01,  3.97007636e+01,\n",
       "        5.29392485e+01,  7.94141194e+01,  1.58834535e+02,  1.63312394e+16])"
      ]
     },
     "execution_count": 47,
     "metadata": {},
     "output_type": "execute_result"
    }
   ],
   "source": [
    "y"
   ]
  },
  {
   "cell_type": "code",
   "execution_count": 51,
   "metadata": {
    "colab": {
     "base_uri": "https://localhost:8080/",
     "height": 287
    },
    "colab_type": "code",
    "executionInfo": {
     "elapsed": 618,
     "status": "ok",
     "timestamp": 1566422084738,
     "user": {
      "displayName": "Martin Soko",
      "photoUrl": "https://lh3.googleusercontent.com/a-/AAuE7mB49KDH9U9UtjIU6-NzSX3GgsCcCcSc0iwMPsLF=s64",
      "userId": "09674850801791942615"
     },
     "user_tz": 180
    },
    "id": "kafKetJNArRQ",
    "outputId": "079d1a77-f475-4d9e-e2b9-1f92fb65aeb7"
   },
   "outputs": [
    {
     "data": {
      "text/plain": [
       "(-50, 50)"
      ]
     },
     "execution_count": 51,
     "metadata": {},
     "output_type": "execute_result"
    },
    {
     "data": {
      "image/png": "[encoded data removed]",
      "text/plain": [
       "<Figure size 432x288 with 1 Axes>"
      ]
     },
     "metadata": {},
     "output_type": "display_data"
    }
   ],
   "source": [
    "plt.plot(tetha, y)\n",
    "plt.ylim(-50, 50)"
   ]
  },
  {
   "cell_type": "markdown",
   "metadata": {
    "colab_type": "text",
    "id": "rvOzn7UO8fCz"
   },
   "source": [
    "Matplotlib nos permite superponer gráficos\n"
   ]
  },
  {
   "cell_type": "code",
   "execution_count": 52,
   "metadata": {
    "colab": {},
    "colab_type": "code",
    "id": "cViHTHmb8tkr"
   },
   "outputs": [],
   "source": [
    "x = np.linspace(0,np.pi*4, 100)\n",
    "seno = np.sin(x)\n",
    "coseno = np.cos(x)"
   ]
  },
  {
   "cell_type": "code",
   "execution_count": 69,
   "metadata": {
    "colab": {
     "base_uri": "https://localhost:8080/",
     "height": 269
    },
    "colab_type": "code",
    "executionInfo": {
     "elapsed": 641,
     "status": "ok",
     "timestamp": 1566424216552,
     "user": {
      "displayName": "Martin Soko",
      "photoUrl": "https://lh3.googleusercontent.com/a-/AAuE7mB49KDH9U9UtjIU6-NzSX3GgsCcCcSc0iwMPsLF=s64",
      "userId": "09674850801791942615"
     },
     "user_tz": 180
    },
    "id": "Chn_x8Yl88kj",
    "outputId": "a3f7d79e-5cb8-484b-97ae-a725cb3a63ec"
   },
   "outputs": [
    {
     "data": {
      "image/png": "[encoded data removed]",
      "text/plain": [
       "<Figure size 432x288 with 1 Axes>"
      ]
     },
     "metadata": {},
     "output_type": "display_data"
    }
   ],
   "source": [
    "plt.plot(x, seno, \"r*-\")\n",
    "plt.plot(x, coseno, \"y\", alpha=0.3)\n",
    "# alpha da transparencia\n",
    "\n",
    "plt.grid(True)"
   ]
  },
  {
   "cell_type": "markdown",
   "metadata": {
    "colab_type": "text",
    "id": "RYHuPBGG9Auz"
   },
   "source": [
    "Vamos a personalizar un poco más los gráficos. A la función plot, podemos pasarle un argumento de formato (fmt) en el que le especificamos el color del trazo, el tipo de marcador y el tipo de línea.\n",
    "\n",
    "Podemos elegir de los siguientes colores:\n",
    "\n",
    "=============    ===============================\n",
    "\n",
    "character        color\n",
    "\n",
    "=============    ===============================\n",
    "\n",
    "``'b'``          blue\n",
    "\n",
    "``'g'``          green\n",
    "\n",
    "``'r'``          red\n",
    "\n",
    "``'c'``          cyan\n",
    "\n",
    "``'m'``          magenta\n",
    "\n",
    "``'y'``          yellow\n",
    "\n",
    "``'k'``          black\n",
    "\n",
    "``'w'``          white\n",
    "\n",
    "=============    ===============================\n",
    "\n",
    "\n",
    "Los siguientes marcadores:\n",
    "\n",
    "=============    ===============================\n",
    "\n",
    "character        description\n",
    "\n",
    "=============    ===============================\n",
    "\n",
    "``'.'``          point marker\n",
    "\n",
    "``','``          pixel marker\n",
    "\n",
    "``'o'``          circle marker\n",
    "\n",
    "``'v'``          triangle_down marker\n",
    "\n",
    "``'^'``          triangle_up marker\n",
    "\n",
    "``'<'``          triangle_left marker\n",
    "\n",
    "``'>'``          triangle_right marker\n",
    "\n",
    "``'1'``          tri_down marker\n",
    "\n",
    "``'2'``          tri_up marker\n",
    "\n",
    "``'3'``          tri_left marker\n",
    "\n",
    "``'4'``          tri_right marker\n",
    "\n",
    "``'s'``          square marker\n",
    "\n",
    "``'p'``          pentagon marker\n",
    "\n",
    "``'*'``          star marker\n",
    "\n",
    "``'h'``          hexagon1 marker\n",
    "\n",
    "``'H'``          hexagon2 marker\n",
    "\n",
    "``'+'``          plus marker\n",
    "\n",
    "``'x'``          x marker\n",
    "\n",
    "``'D'``          diamond marker\n",
    "\n",
    "``'d'``          thin_diamond marker\n",
    "\n",
    "``'|'``          vline marker\n",
    "\n",
    "``'_'``          hline marker\n",
    "\n",
    "=============    ===============================\n",
    "\n",
    "\n",
    "Y los siguientes tipos de linea:\n",
    "\n",
    "=============    ===============================\n",
    "\n",
    "character        description\n",
    "\n",
    "=============    ===============================\n",
    "\n",
    "``'-'``          solid line style\n",
    "\n",
    "``'--'``         dashed line style\n",
    "\n",
    "``'-.'``         dash-dot line style\n",
    "\n",
    "``':'``          dotted line style\n",
    "\n",
    "=============    ===============================\n",
    "\n",
    "Combinando los caracteres para [color][marcador][linea] podemos personalizar cada trazo.\n",
    "\n",
    "Veamos ejemplos\n"
   ]
  },
  {
   "cell_type": "code",
   "execution_count": 70,
   "metadata": {
    "colab": {
     "base_uri": "https://localhost:8080/",
     "height": 287
    },
    "colab_type": "code",
    "executionInfo": {
     "elapsed": 813,
     "status": "ok",
     "timestamp": 1566424496585,
     "user": {
      "displayName": "Martin Soko",
      "photoUrl": "https://lh3.googleusercontent.com/a-/AAuE7mB49KDH9U9UtjIU6-NzSX3GgsCcCcSc0iwMPsLF=s64",
      "userId": "09674850801791942615"
     },
     "user_tz": 180
    },
    "id": "RXp_z_879PXr",
    "outputId": "00a8d3e9-41b0-4c72-80e4-c5bfdb137d29"
   },
   "outputs": [
    {
     "data": {
      "text/plain": [
       "[<matplotlib.lines.Line2D at 0xa07f9b0>]"
      ]
     },
     "execution_count": 70,
     "metadata": {},
     "output_type": "execute_result"
    },
    {
     "data": {
      "image/png": "[encoded data removed]",
      "text/plain": [
       "<Figure size 432x288 with 1 Axes>"
      ]
     },
     "metadata": {},
     "output_type": "display_data"
    }
   ],
   "source": [
    "plt.plot(x, seno, 'ro:')\n",
    "plt.plot(x, coseno, 'g-')"
   ]
  },
  {
   "cell_type": "code",
   "execution_count": 73,
   "metadata": {
    "colab": {
     "base_uri": "https://localhost:8080/",
     "height": 287
    },
    "colab_type": "code",
    "executionInfo": {
     "elapsed": 814,
     "status": "ok",
     "timestamp": 1566424590952,
     "user": {
      "displayName": "Martin Soko",
      "photoUrl": "https://lh3.googleusercontent.com/a-/AAuE7mB49KDH9U9UtjIU6-NzSX3GgsCcCcSc0iwMPsLF=s64",
      "userId": "09674850801791942615"
     },
     "user_tz": 180
    },
    "id": "c3Jqx-hy_VWJ",
    "outputId": "32b6a590-71ee-43bf-f3d7-9684824c0c5e"
   },
   "outputs": [
    {
     "data": {
      "text/plain": [
       "[<matplotlib.lines.Line2D at 0x8e3c3c8>]"
      ]
     },
     "execution_count": 73,
     "metadata": {},
     "output_type": "execute_result"
    },
    {
     "data": {
      "image/png": "[encoded data removed]",
      "text/plain": [
       "<Figure size 432x288 with 1 Axes>"
      ]
     },
     "metadata": {},
     "output_type": "display_data"
    }
   ],
   "source": [
    "x = np.linspace(0, 10, 10)\n",
    "plt.plot(np.concatenate((-x,x)), np.concatenate(((-x)**2,x**2)), 'mD--')\n",
    "plt.plot(np.concatenate((-x,x)), np.concatenate(((-x)**3,x**3)), 'cd-', alpha=.3)"
   ]
  },
  {
   "cell_type": "code",
   "execution_count": 78,
   "metadata": {
    "colab": {
     "base_uri": "https://localhost:8080/",
     "height": 503
    },
    "colab_type": "code",
    "executionInfo": {
     "elapsed": 719,
     "status": "ok",
     "timestamp": 1566424660962,
     "user": {
      "displayName": "Martin Soko",
      "photoUrl": "https://lh3.googleusercontent.com/a-/AAuE7mB49KDH9U9UtjIU6-NzSX3GgsCcCcSc0iwMPsLF=s64",
      "userId": "09674850801791942615"
     },
     "user_tz": 180
    },
    "id": "hFC-gA1N_yhq",
    "outputId": "78e32193-765e-4b31-f0c7-6334571674be"
   },
   "outputs": [
    {
     "data": {
      "text/plain": [
       "[<matplotlib.lines.Line2D at 0xa5877b8>]"
      ]
     },
     "execution_count": 78,
     "metadata": {},
     "output_type": "execute_result"
    },
    {
     "data": {
      "image/png": "[encoded data removed]",
      "text/plain": [
       "<Figure size 648x288 with 1 Axes>"
      ]
     },
     "metadata": {},
     "output_type": "display_data"
    }
   ],
   "source": [
    "#Podemos agrandar el gráfico usando el parámetro figsize\n",
    "plt.figure(figsize=(9, 4))\n",
    "plt.plot(np.concatenate((-x,x)), np.concatenate(((-x)**2,x**2)), 'mD')\n",
    "plt.plot(np.concatenate((-x,x)), np.concatenate(((-x)**3,x**3)), 'cd')\n"
   ]
  },
  {
   "cell_type": "markdown",
   "metadata": {
    "colab_type": "text",
    "id": "EYdJpxdIACwL"
   },
   "source": [
    "También podemos generar gráficos de barras como el siguiente:\n"
   ]
  },
  {
   "cell_type": "code",
   "execution_count": 86,
   "metadata": {
    "colab": {
     "base_uri": "https://localhost:8080/",
     "height": 287
    },
    "colab_type": "code",
    "executionInfo": {
     "elapsed": 631,
     "status": "ok",
     "timestamp": 1566424704777,
     "user": {
      "displayName": "Martin Soko",
      "photoUrl": "https://lh3.googleusercontent.com/a-/AAuE7mB49KDH9U9UtjIU6-NzSX3GgsCcCcSc0iwMPsLF=s64",
      "userId": "09674850801791942615"
     },
     "user_tz": 180
    },
    "id": "qbaMosVmBtYP",
    "outputId": "ab5dc04d-2c75-4deb-f8dd-e10d75961555"
   },
   "outputs": [
    {
     "data": {
      "image/png": "[encoded data removed]",
      "text/plain": [
       "<Figure size 432x288 with 1 Axes>"
      ]
     },
     "metadata": {},
     "output_type": "display_data"
    }
   ],
   "source": [
    "plt.bar([0,1,2,3], [10, 15, 12, 8])\n",
    "plt.xlim(-1,5)\n",
    "plt.ylim(-1, 17)\n",
    "plt.grid(True, alpha=.3)"
   ]
  },
  {
   "cell_type": "markdown",
   "metadata": {
    "colab_type": "text",
    "id": "HcRsWO8EBynD"
   },
   "source": [
    "En este caso, tenemos que especificar el eje X y la altura de cada una de las barras.\n",
    "El eje X puede ser una lista de valores o las etiquetas de cada categoría.\n"
   ]
  },
  {
   "cell_type": "code",
   "execution_count": 107,
   "metadata": {
    "colab": {
     "base_uri": "https://localhost:8080/",
     "height": 287
    },
    "colab_type": "code",
    "executionInfo": {
     "elapsed": 619,
     "status": "ok",
     "timestamp": 1566424785700,
     "user": {
      "displayName": "Martin Soko",
      "photoUrl": "https://lh3.googleusercontent.com/a-/AAuE7mB49KDH9U9UtjIU6-NzSX3GgsCcCcSc0iwMPsLF=s64",
      "userId": "09674850801791942615"
     },
     "user_tz": 180
    },
    "id": "0dJ2NnB-B4bj",
    "outputId": "d969de2d-9174-441c-dc6e-c61d9950b09e"
   },
   "outputs": [
    {
     "data": {
      "image/png": "[encoded data removed]",
      "text/plain": [
       "<Figure size 432x288 with 1 Axes>"
      ]
     },
     "metadata": {},
     "output_type": "display_data"
    }
   ],
   "source": [
    "plt.bar(['Equipo 1', 'Equipo 2'], [10, 15], color=\"w\", edgecolor=\"r\", linewidth=4 )\n",
    "plt.xlabel(\"Equipos\" )\n",
    "plt.show()\n"
   ]
  },
  {
   "cell_type": "markdown",
   "metadata": {
    "colab_type": "text",
    "id": "4v-i1xItCtuh"
   },
   "source": [
    "Qué pasa si graficamos 2 barras para cada valor?"
   ]
  },
  {
   "cell_type": "code",
   "execution_count": 108,
   "metadata": {
    "colab": {
     "base_uri": "https://localhost:8080/",
     "height": 287
    },
    "colab_type": "code",
    "executionInfo": {
     "elapsed": 722,
     "status": "ok",
     "timestamp": 1566424835608,
     "user": {
      "displayName": "Martin Soko",
      "photoUrl": "https://lh3.googleusercontent.com/a-/AAuE7mB49KDH9U9UtjIU6-NzSX3GgsCcCcSc0iwMPsLF=s64",
      "userId": "09674850801791942615"
     },
     "user_tz": 180
    },
    "id": "wDS81BttB_DL",
    "outputId": "16a74da0-4cb6-4b0e-bb04-bdb9bf7ca493"
   },
   "outputs": [
    {
     "data": {
      "text/plain": [
       "<BarContainer object of 2 artists>"
      ]
     },
     "execution_count": 108,
     "metadata": {},
     "output_type": "execute_result"
    },
    {
     "data": {
      "image/png": "[encoded data removed]",
      "text/plain": [
       "<Figure size 432x288 with 1 Axes>"
      ]
     },
     "metadata": {},
     "output_type": "display_data"
    }
   ],
   "source": [
    "plt.bar(['Equipo 1', 'Equipo 2'], [8, 5])\n",
    "plt.bar(['Equipo 1', 'Equipo 2'], [10, 15], color=\"blue\")\n"
   ]
  },
  {
   "cell_type": "markdown",
   "metadata": {
    "colab_type": "text",
    "id": "0geS0hgUCLUz"
   },
   "source": [
    "Vemos que se superponen los valores y el gráfico no queda bien. \n",
    "Tenemos 2 alternativas para graficar varias barras juntas:\n",
    "-Apliarlas\n",
    "-Agruparlas"
   ]
  },
  {
   "cell_type": "code",
   "execution_count": 114,
   "metadata": {
    "colab": {
     "base_uri": "https://localhost:8080/",
     "height": 287
    },
    "colab_type": "code",
    "executionInfo": {
     "elapsed": 611,
     "status": "ok",
     "timestamp": 1566424944599,
     "user": {
      "displayName": "Martin Soko",
      "photoUrl": "https://lh3.googleusercontent.com/a-/AAuE7mB49KDH9U9UtjIU6-NzSX3GgsCcCcSc0iwMPsLF=s64",
      "userId": "09674850801791942615"
     },
     "user_tz": 180
    },
    "id": "kVh7GFmDDBE7",
    "outputId": "d53ca812-8c9d-46e5-f706-6334098366c7"
   },
   "outputs": [
    {
     "ename": "AttributeError",
     "evalue": "Unknown property stacked",
     "output_type": "error",
     "traceback": [
      "\u001b[1;31m---------------------------------------------------------------------------\u001b[0m",
      "\u001b[1;31mAttributeError\u001b[0m                            Traceback (most recent call last)",
      "\u001b[1;32m<ipython-input-114-131620ad6737>\u001b[0m in \u001b[0;36m<module>\u001b[1;34m()\u001b[0m\n\u001b[0;32m      1\u001b[0m \u001b[1;31m# Apilados\u001b[0m\u001b[1;33m\u001b[0m\u001b[1;33m\u001b[0m\u001b[0m\n\u001b[1;32m----> 2\u001b[1;33m \u001b[0mplt\u001b[0m\u001b[1;33m.\u001b[0m\u001b[0mbar\u001b[0m\u001b[1;33m(\u001b[0m\u001b[1;33m[\u001b[0m\u001b[1;34m'Equipo 1'\u001b[0m\u001b[1;33m,\u001b[0m \u001b[1;34m'Equipo 2'\u001b[0m\u001b[1;33m]\u001b[0m\u001b[1;33m,\u001b[0m \u001b[1;33m[\u001b[0m\u001b[1;36m10\u001b[0m\u001b[1;33m,\u001b[0m \u001b[1;36m15\u001b[0m\u001b[1;33m]\u001b[0m\u001b[1;33m,\u001b[0m \u001b[0mstacked\u001b[0m\u001b[1;33m=\u001b[0m\u001b[1;32mTrue\u001b[0m\u001b[1;33m)\u001b[0m\u001b[1;33m\u001b[0m\u001b[0m\n\u001b[0m\u001b[0;32m      3\u001b[0m \u001b[0mplt\u001b[0m\u001b[1;33m.\u001b[0m\u001b[0mbar\u001b[0m\u001b[1;33m(\u001b[0m\u001b[1;33m[\u001b[0m\u001b[1;34m'Equipo 1'\u001b[0m\u001b[1;33m,\u001b[0m \u001b[1;34m'Equipo 2'\u001b[0m\u001b[1;33m]\u001b[0m\u001b[1;33m,\u001b[0m \u001b[1;33m[\u001b[0m\u001b[1;36m8\u001b[0m\u001b[1;33m,\u001b[0m \u001b[1;36m5\u001b[0m\u001b[1;33m]\u001b[0m\u001b[1;33m,\u001b[0m \u001b[0mbottom\u001b[0m \u001b[1;33m=\u001b[0m \u001b[1;33m[\u001b[0m\u001b[1;36m10\u001b[0m\u001b[1;33m,\u001b[0m \u001b[1;36m15\u001b[0m\u001b[1;33m]\u001b[0m\u001b[1;33m)\u001b[0m \u001b[1;31m# \"Levantamos el segundo gráfico\"\u001b[0m\u001b[1;33m\u001b[0m\u001b[0m\n",
      "\u001b[1;32mC:\\ProgramData\\Anaconda3\\lib\\site-packages\\matplotlib\\pyplot.py\u001b[0m in \u001b[0;36mbar\u001b[1;34m(*args, **kwargs)\u001b[0m\n\u001b[0;32m   2768\u001b[0m                       mplDeprecation)\n\u001b[0;32m   2769\u001b[0m     \u001b[1;32mtry\u001b[0m\u001b[1;33m:\u001b[0m\u001b[1;33m\u001b[0m\u001b[0m\n\u001b[1;32m-> 2770\u001b[1;33m         \u001b[0mret\u001b[0m \u001b[1;33m=\u001b[0m \u001b[0max\u001b[0m\u001b[1;33m.\u001b[0m\u001b[0mbar\u001b[0m\u001b[1;33m(\u001b[0m\u001b[1;33m*\u001b[0m\u001b[0margs\u001b[0m\u001b[1;33m,\u001b[0m \u001b[1;33m**\u001b[0m\u001b[0mkwargs\u001b[0m\u001b[1;33m)\u001b[0m\u001b[1;33m\u001b[0m\u001b[0m\n\u001b[0m\u001b[0;32m   2771\u001b[0m     \u001b[1;32mfinally\u001b[0m\u001b[1;33m:\u001b[0m\u001b[1;33m\u001b[0m\u001b[0m\n\u001b[0;32m   2772\u001b[0m         \u001b[0max\u001b[0m\u001b[1;33m.\u001b[0m\u001b[0m_hold\u001b[0m \u001b[1;33m=\u001b[0m \u001b[0mwashold\u001b[0m\u001b[1;33m\u001b[0m\u001b[0m\n",
      "\u001b[1;32mC:\\ProgramData\\Anaconda3\\lib\\site-packages\\matplotlib\\__init__.py\u001b[0m in \u001b[0;36minner\u001b[1;34m(ax, *args, **kwargs)\u001b[0m\n\u001b[0;32m   1853\u001b[0m                         \u001b[1;34m\"the Matplotlib list!)\"\u001b[0m \u001b[1;33m%\u001b[0m \u001b[1;33m(\u001b[0m\u001b[0mlabel_namer\u001b[0m\u001b[1;33m,\u001b[0m \u001b[0mfunc\u001b[0m\u001b[1;33m.\u001b[0m\u001b[0m__name__\u001b[0m\u001b[1;33m)\u001b[0m\u001b[1;33m,\u001b[0m\u001b[1;33m\u001b[0m\u001b[0m\n\u001b[0;32m   1854\u001b[0m                         RuntimeWarning, stacklevel=2)\n\u001b[1;32m-> 1855\u001b[1;33m             \u001b[1;32mreturn\u001b[0m \u001b[0mfunc\u001b[0m\u001b[1;33m(\u001b[0m\u001b[0max\u001b[0m\u001b[1;33m,\u001b[0m \u001b[1;33m*\u001b[0m\u001b[0margs\u001b[0m\u001b[1;33m,\u001b[0m \u001b[1;33m**\u001b[0m\u001b[0mkwargs\u001b[0m\u001b[1;33m)\u001b[0m\u001b[1;33m\u001b[0m\u001b[0m\n\u001b[0m\u001b[0;32m   1856\u001b[0m \u001b[1;33m\u001b[0m\u001b[0m\n\u001b[0;32m   1857\u001b[0m         inner.__doc__ = _add_data_doc(inner.__doc__,\n",
      "\u001b[1;32mC:\\ProgramData\\Anaconda3\\lib\\site-packages\\matplotlib\\axes\\_axes.py\u001b[0m in \u001b[0;36mbar\u001b[1;34m(self, *args, **kwargs)\u001b[0m\n\u001b[0;32m   2278\u001b[0m                 \u001b[0mlabel\u001b[0m\u001b[1;33m=\u001b[0m\u001b[1;34m'_nolegend_'\u001b[0m\u001b[1;33m,\u001b[0m\u001b[1;33m\u001b[0m\u001b[0m\n\u001b[0;32m   2279\u001b[0m                 )\n\u001b[1;32m-> 2280\u001b[1;33m             \u001b[0mr\u001b[0m\u001b[1;33m.\u001b[0m\u001b[0mupdate\u001b[0m\u001b[1;33m(\u001b[0m\u001b[0mkwargs\u001b[0m\u001b[1;33m)\u001b[0m\u001b[1;33m\u001b[0m\u001b[0m\n\u001b[0m\u001b[0;32m   2281\u001b[0m             \u001b[0mr\u001b[0m\u001b[1;33m.\u001b[0m\u001b[0mget_path\u001b[0m\u001b[1;33m(\u001b[0m\u001b[1;33m)\u001b[0m\u001b[1;33m.\u001b[0m\u001b[0m_interpolation_steps\u001b[0m \u001b[1;33m=\u001b[0m \u001b[1;36m100\u001b[0m\u001b[1;33m\u001b[0m\u001b[0m\n\u001b[0;32m   2282\u001b[0m             \u001b[1;32mif\u001b[0m \u001b[0morientation\u001b[0m \u001b[1;33m==\u001b[0m \u001b[1;34m'vertical'\u001b[0m\u001b[1;33m:\u001b[0m\u001b[1;33m\u001b[0m\u001b[0m\n",
      "\u001b[1;32mC:\\ProgramData\\Anaconda3\\lib\\site-packages\\matplotlib\\artist.py\u001b[0m in \u001b[0;36mupdate\u001b[1;34m(self, props)\u001b[0m\n\u001b[0;32m    886\u001b[0m         \u001b[1;32mtry\u001b[0m\u001b[1;33m:\u001b[0m\u001b[1;33m\u001b[0m\u001b[0m\n\u001b[0;32m    887\u001b[0m             ret = [_update_property(self, k, v)\n\u001b[1;32m--> 888\u001b[1;33m                    for k, v in props.items()]\n\u001b[0m\u001b[0;32m    889\u001b[0m         \u001b[1;32mfinally\u001b[0m\u001b[1;33m:\u001b[0m\u001b[1;33m\u001b[0m\u001b[0m\n\u001b[0;32m    890\u001b[0m             \u001b[0mself\u001b[0m\u001b[1;33m.\u001b[0m\u001b[0meventson\u001b[0m \u001b[1;33m=\u001b[0m \u001b[0mstore\u001b[0m\u001b[1;33m\u001b[0m\u001b[0m\n",
      "\u001b[1;32mC:\\ProgramData\\Anaconda3\\lib\\site-packages\\matplotlib\\artist.py\u001b[0m in \u001b[0;36m<listcomp>\u001b[1;34m(.0)\u001b[0m\n\u001b[0;32m    886\u001b[0m         \u001b[1;32mtry\u001b[0m\u001b[1;33m:\u001b[0m\u001b[1;33m\u001b[0m\u001b[0m\n\u001b[0;32m    887\u001b[0m             ret = [_update_property(self, k, v)\n\u001b[1;32m--> 888\u001b[1;33m                    for k, v in props.items()]\n\u001b[0m\u001b[0;32m    889\u001b[0m         \u001b[1;32mfinally\u001b[0m\u001b[1;33m:\u001b[0m\u001b[1;33m\u001b[0m\u001b[0m\n\u001b[0;32m    890\u001b[0m             \u001b[0mself\u001b[0m\u001b[1;33m.\u001b[0m\u001b[0meventson\u001b[0m \u001b[1;33m=\u001b[0m \u001b[0mstore\u001b[0m\u001b[1;33m\u001b[0m\u001b[0m\n",
      "\u001b[1;32mC:\\ProgramData\\Anaconda3\\lib\\site-packages\\matplotlib\\artist.py\u001b[0m in \u001b[0;36m_update_property\u001b[1;34m(self, k, v)\u001b[0m\n\u001b[0;32m    879\u001b[0m                 \u001b[0mfunc\u001b[0m \u001b[1;33m=\u001b[0m \u001b[0mgetattr\u001b[0m\u001b[1;33m(\u001b[0m\u001b[0mself\u001b[0m\u001b[1;33m,\u001b[0m \u001b[1;34m'set_'\u001b[0m \u001b[1;33m+\u001b[0m \u001b[0mk\u001b[0m\u001b[1;33m,\u001b[0m \u001b[1;32mNone\u001b[0m\u001b[1;33m)\u001b[0m\u001b[1;33m\u001b[0m\u001b[0m\n\u001b[0;32m    880\u001b[0m                 \u001b[1;32mif\u001b[0m \u001b[1;32mnot\u001b[0m \u001b[0mcallable\u001b[0m\u001b[1;33m(\u001b[0m\u001b[0mfunc\u001b[0m\u001b[1;33m)\u001b[0m\u001b[1;33m:\u001b[0m\u001b[1;33m\u001b[0m\u001b[0m\n\u001b[1;32m--> 881\u001b[1;33m                     \u001b[1;32mraise\u001b[0m \u001b[0mAttributeError\u001b[0m\u001b[1;33m(\u001b[0m\u001b[1;34m'Unknown property %s'\u001b[0m \u001b[1;33m%\u001b[0m \u001b[0mk\u001b[0m\u001b[1;33m)\u001b[0m\u001b[1;33m\u001b[0m\u001b[0m\n\u001b[0m\u001b[0;32m    882\u001b[0m                 \u001b[1;32mreturn\u001b[0m \u001b[0mfunc\u001b[0m\u001b[1;33m(\u001b[0m\u001b[0mv\u001b[0m\u001b[1;33m)\u001b[0m\u001b[1;33m\u001b[0m\u001b[0m\n\u001b[0;32m    883\u001b[0m \u001b[1;33m\u001b[0m\u001b[0m\n",
      "\u001b[1;31mAttributeError\u001b[0m: Unknown property stacked"
     ]
    },
    {
     "data": {
      "image/png": "[encoded data removed]",
      "text/plain": [
       "<Figure size 432x288 with 1 Axes>"
      ]
     },
     "metadata": {},
     "output_type": "display_data"
    }
   ],
   "source": [
    "# Apilados\n",
    "plt.bar(['Equipo 1', 'Equipo 2'], [10, 15])\n",
    "plt.bar(['Equipo 1', 'Equipo 2'], [8, 5], bottom = [10, 15]) # \"Levantamos el segundo gráfico\""
   ]
  },
  {
   "cell_type": "code",
   "execution_count": 113,
   "metadata": {
    "colab": {
     "base_uri": "https://localhost:8080/",
     "height": 409
    },
    "colab_type": "code",
    "executionInfo": {
     "elapsed": 608,
     "status": "ok",
     "timestamp": 1566425327481,
     "user": {
      "displayName": "Martin Soko",
      "photoUrl": "https://lh3.googleusercontent.com/a-/AAuE7mB49KDH9U9UtjIU6-NzSX3GgsCcCcSc0iwMPsLF=s64",
      "userId": "09674850801791942615"
     },
     "user_tz": 180
    },
    "id": "ZmK11MQHDLfj",
    "outputId": "24b3135f-41e0-42cb-d164-0d8e61bc4666"
   },
   "outputs": [
    {
     "data": {
      "text/plain": [
       "Text(0,0.5,'Puntos')"
      ]
     },
     "execution_count": 113,
     "metadata": {},
     "output_type": "execute_result"
    },
    {
     "data": {
      "image/png": "[encoded data removed]",
      "text/plain": [
       "<Figure size 576x432 with 1 Axes>"
      ]
     },
     "metadata": {},
     "output_type": "display_data"
    }
   ],
   "source": [
    "#Agrupados\n",
    "\n",
    "fig, ax = plt.subplots(figsize=(8,6))\n",
    "\n",
    "ancho = 0.3 #Seteamos el ancho de las barras\n",
    "x = np.array([0,1]) #Seteamos el eje X\n",
    "etiquetas_x = ['Equipo 1', 'Equipo 2'] #Seteamos las etiquetas\n",
    "valores_1 = [10, 15] # Seteamos los valores para la primera barra\n",
    "valores_2 = [8, 5] # Seteamos los valores para la segunda barra\n",
    "\n",
    "ax.bar(x, height=valores_1, width=ancho)\n",
    "ax.bar(x+ancho, height=valores_2, width=ancho)\n",
    "ax.set_xlabel('Equipos')\n",
    "ax.set_xticks(x+ancho/2)\n",
    "ax.set_xticklabels(('Equipo 1', 'Equipo 2'))\n",
    "ax.set_ylabel(\"Puntos\")\n",
    "\n"
   ]
  },
  {
   "cell_type": "markdown",
   "metadata": {
    "colab_type": "text",
    "id": "ThnsF3NOFa5b"
   },
   "source": [
    "Como vemos, matplotlib es muy poderoso, pero cuando queremos hacer gráficos customizados se vuelve más complejo. Por eso es importante leer la documentación y buscar ejemplos en internet que nos ayuden a hacer lo que queremos graficar."
   ]
  },
  {
   "cell_type": "markdown",
   "metadata": {
    "colab_type": "text",
    "id": "LZVkF50iD-Ea"
   },
   "source": [
    "Pasos a seguir:\n",
    "\n",
    "\n",
    "\n",
    "1. Invesigar qué es un histograma. Qué información muestra? Para qué sirve?\n",
    "2. Investigar cómo graficar un histograma usando matplotlib.\n",
    "3. Graficar el histograma de una distribución normal usando el módulo random de Numpy. (Bonus, generar 2 distribuciones normales y graficar la media de cada una, mostrando el desvío estándar.) \n",
    "4. Graficar el histograma del monto de los contratos en el observatorio de obras urbanas.\n",
    "\n",
    "\n",
    "\n",
    "\n",
    "\n"
   ]
  },
  {
   "cell_type": "code",
   "execution_count": null,
   "metadata": {
    "colab": {},
    "colab_type": "code",
    "id": "aDr97krCQpNZ"
   },
   "outputs": [],
   "source": []
  },
  {
   "cell_type": "code",
   "execution_count": null,
   "metadata": {
    "colab": {
     "base_uri": "https://localhost:8080/",
     "height": 269
    },
    "colab_type": "code",
    "executionInfo": {
     "elapsed": 1635,
     "status": "ok",
     "timestamp": 1566428876201,
     "user": {
      "displayName": "Martin Soko",
      "photoUrl": "https://lh3.googleusercontent.com/a-/AAuE7mB49KDH9U9UtjIU6-NzSX3GgsCcCcSc0iwMPsLF=s64",
      "userId": "09674850801791942615"
     },
     "user_tz": 180
    },
    "id": "GyuwkWk0aL30",
    "outputId": "97994a71-79c3-413d-98de-c7589f796573"
   },
   "outputs": [],
   "source": []
  },
  {
   "cell_type": "code",
   "execution_count": null,
   "metadata": {
    "colab": {
     "base_uri": "https://localhost:8080/",
     "height": 70
    },
    "colab_type": "code",
    "executionInfo": {
     "elapsed": 1143,
     "status": "ok",
     "timestamp": 1566428881985,
     "user": {
      "displayName": "Martin Soko",
      "photoUrl": "https://lh3.googleusercontent.com/a-/AAuE7mB49KDH9U9UtjIU6-NzSX3GgsCcCcSc0iwMPsLF=s64",
      "userId": "09674850801791942615"
     },
     "user_tz": 180
    },
    "id": "yJk81J00aam6",
    "outputId": "e54517af-d054-4fae-e1e5-001bc60edd3f"
   },
   "outputs": [],
   "source": []
  },
  {
   "cell_type": "code",
   "execution_count": null,
   "metadata": {
    "colab": {
     "base_uri": "https://localhost:8080/",
     "height": 287
    },
    "colab_type": "code",
    "executionInfo": {
     "elapsed": 672,
     "status": "ok",
     "timestamp": 1566428891048,
     "user": {
      "displayName": "Martin Soko",
      "photoUrl": "https://lh3.googleusercontent.com/a-/AAuE7mB49KDH9U9UtjIU6-NzSX3GgsCcCcSc0iwMPsLF=s64",
      "userId": "09674850801791942615"
     },
     "user_tz": 180
    },
    "id": "P4HhnihvbaO7",
    "outputId": "90c01c90-a989-4487-c87c-035e869cfbd2"
   },
   "outputs": [],
   "source": []
  },
  {
   "cell_type": "code",
   "execution_count": null,
   "metadata": {
    "colab": {},
    "colab_type": "code",
    "id": "UijOfmhebrjA"
   },
   "outputs": [],
   "source": []
  }
 ],
 "metadata": {
  "colab": {
   "collapsed_sections": [],
   "name": "Visualización básica con Matplotlib.ipynb",
   "provenance": [],
   "version": "0.3.2"
  },
  "kernelspec": {
   "display_name": "Python 3",
   "language": "python",
   "name": "python3"
  },
  "language_info": {
   "codemirror_mode": {
    "name": "ipython",
    "version": 3
   },
   "file_extension": ".py",
   "mimetype": "text/x-python",
   "name": "python",
   "nbconvert_exporter": "python",
   "pygments_lexer": "ipython3",
   "version": "3.6.5"
  }
 },
 "nbformat": 4,
 "nbformat_minor": 1
}
