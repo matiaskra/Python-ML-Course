{
 "cells": [
  {
   "cell_type": "markdown",
   "metadata": {},
   "source": [
    "# Curso de introduccion a Python y Machine Learning\n",
    "## Clase 3\n",
    "#### Indice:\n",
    "    Listas:\n",
    "        Indice\n",
    "        .append()\n",
    "        .insert()\n",
    "        del\n",
    "        len(lista)\n",
    "    Matrices\n",
    "    Bucle While\n",
    "    Bucle For\n",
    "    in range()\n",
    "        "
   ]
  },
  {
   "cell_type": "markdown",
   "metadata": {},
   "source": [
    "Además de los mencionados hasta ahora, Python nos ofrece otras estructuras de datos que son más flexibles y permiten agrupar varios valores. Además muchas de ellas son mutables, es decir, permiten que asignemos o alteremos valores una vez definidas."
   ]
  },
  {
   "cell_type": "markdown",
   "metadata": {},
   "source": [
    "## Listas\n",
    "Las `listas` nos permiten agrupar varios objetos (de cualquiera de los cuatro tipos de dato básicos que vimos) en una misma variable. Cada uno de estos objetos se conoce como `elemento` . Para crear una lista vamos a escoger un nombre e indicar, entre corchetes y separados por comas, los elementos. Por ejemplo, el siguiente código crea distintos tipos de listas:"
   ]
  },
  {
   "cell_type": "code",
   "execution_count": null,
   "metadata": {},
   "outputs": [],
   "source": [
    "#Lista de numeros primos\n",
    "numeros_primos = [2, 3, 5, 7, 11]\n",
    "\n",
    "#Lista de nombres (strings)\n",
    "alumnos = [\"Jorge\", \"Matias\", \"Juan\", \"Martin\"]\n",
    "\n",
    "#Listas de distintos tipos de datos\n",
    "datos = [3.14, True, -1, False, \"Hola mundo\"]"
   ]
  },
  {
   "cell_type": "markdown",
   "metadata": {},
   "source": [
    "La disposición de los `elementos` al momento de crear una lista es importante. Las listas son **colecciones ordenadas** de objetos. A cada uno de los elementos se le asigna un **índice** , que no es otra cosa que la posición en la que se encuentra en la lista, empezando del 0. El índice nos permite luego traer un elemento en particular de una lista cualquiera.\n",
    "\n",
    "Para acceder a un `elemento` de una `lista` a partir de su `índice`, vamos a indicarlo entre corchetes luego del nombre de la lista."
   ]
  },
  {
   "cell_type": "code",
   "execution_count": null,
   "metadata": {},
   "outputs": [],
   "source": [
    "print(numeros_primos[0])\n",
    "print(numeros_primos[1])\n",
    "print(numeros_primos[2])\n",
    "print(numeros_primos[3])\n",
    "print(numeros_primos[4])"
   ]
  },
  {
   "cell_type": "markdown",
   "metadata": {},
   "source": [
    "Hasta ahora vimos solo como acceder utilizando indices positivos, pero también podemos acceder usando **indices negativos**. El último caracter tendra el indice -1, el anteultimo -2 y así sucesivamente."
   ]
  },
  {
   "cell_type": "code",
   "execution_count": null,
   "metadata": {},
   "outputs": [],
   "source": [
    "#Imprime el ultimo elemento de la lista numeros_primos\n",
    "numeros_primos[-1]"
   ]
  },
  {
   "cell_type": "code",
   "execution_count": null,
   "metadata": {},
   "outputs": [],
   "source": [
    "#Imprime la sublista que va desde el tercer elemento hasta el cuarto elemento inclusive de la lista numeros_primos\n",
    "numeros_primos[2:5]"
   ]
  },
  {
   "cell_type": "code",
   "execution_count": null,
   "metadata": {},
   "outputs": [],
   "source": [
    "#Imprime la sublista que contenga los primeros tres elementos de la lista numeros_primos\n",
    "numeros_primos[:3]"
   ]
  },
  {
   "cell_type": "code",
   "execution_count": null,
   "metadata": {},
   "outputs": [],
   "source": [
    "#Imprime la sublista que contenga los ultimos dos elementos de la lista numeros_primos\n",
    "numeros_primos[-2:]"
   ]
  },
  {
   "cell_type": "markdown",
   "metadata": {},
   "source": [
    "### .append()\n",
    "Ahora bien, podemos agregar un elemento al final de la lista (luego de haberla creado)\n",
    "usando la sintaxis `nombre_lista.append(elemento)` . Por ejemplo:"
   ]
  },
  {
   "cell_type": "code",
   "execution_count": null,
   "metadata": {},
   "outputs": [],
   "source": [
    "numeros_primos.append(13)\n",
    "print(numeros_primos)\n",
    "print(numeros_primos[-1])"
   ]
  },
  {
   "cell_type": "markdown",
   "metadata": {},
   "source": [
    "### .insert()\n",
    "Asimismo, vía la sintaxis `nombre_lista.insert(indice, elemento)` insertamos un nuevo elemento en la posición especificada. \n",
    "\n",
    "Por ejemplo:"
   ]
  },
  {
   "cell_type": "code",
   "execution_count": null,
   "metadata": {},
   "outputs": [],
   "source": [
    "numeros_primos.insert(2, 3.14)\n"
   ]
  },
  {
   "cell_type": "markdown",
   "metadata": {},
   "source": [
    "En este caso, el elemento 3.14 se inserta en la posición 2 , es decir, entre los números 3 y 5 ."
   ]
  },
  {
   "cell_type": "code",
   "execution_count": null,
   "metadata": {},
   "outputs": [],
   "source": [
    "print(numeros_primos[2])\n",
    "print(numeros_primos)"
   ]
  },
  {
   "cell_type": "markdown",
   "metadata": {},
   "source": [
    "Nótese que todos los elementos subsiguientes al que acabamos de insertar sufren un desplazamiento hacia la derecha. De modo que el número 13, que antes estaba en la quinta posición, ahora está en la sexta.\n",
    "\n",
    "La operación `insert` es bastante menos frecuente que `append` .\n",
    "\n",
    "### del lista[indice]\n",
    "La sintaxis para quitar un elemento de una lista es `del nombre_lista[indice]` . Por ejemplo, para remover el elemento que acabamos de insertar:"
   ]
  },
  {
   "cell_type": "code",
   "execution_count": null,
   "metadata": {},
   "outputs": [],
   "source": [
    "del numeros_primos[2]\n",
    "print(numeros_primos)"
   ]
  },
  {
   "cell_type": "markdown",
   "metadata": {},
   "source": [
    "Del mismo modo los elementos de una lista se reorganizan luego de haber eliminado uno de ellos, a menos que haya sido el último. En particular, todos aquellos que estaban a la derecha del elemento removido se desplazan una posición hacia la izquierda."
   ]
  },
  {
   "cell_type": "code",
   "execution_count": null,
   "metadata": {},
   "outputs": [],
   "source": [
    "numeros_primos\n",
    "\n",
    "# Ahora la posicion [2] vuelve a ser el 5"
   ]
  },
  {
   "cell_type": "markdown",
   "metadata": {},
   "source": [
    "### len(lista)\n",
    "Otra operación frecuente sobre listas es obtener el número de elementos que contiene. Lo\n",
    "conseguimos vía la instrucción `len(nombre_lista)`.\n"
   ]
  },
  {
   "cell_type": "code",
   "execution_count": null,
   "metadata": {},
   "outputs": [],
   "source": [
    "len(numeros_primos)\n",
    "numeros_primos[6] == numeros_primos[-1]"
   ]
  },
  {
   "cell_type": "markdown",
   "metadata": {},
   "source": [
    "Existe una relación entre el número o la cantidad de elemento de una lista y la posición del último elemento. Puesto que los índices comienzan del cero, es evidente que el último será `len(nombre_lista) - 1` ."
   ]
  },
  {
   "cell_type": "code",
   "execution_count": null,
   "metadata": {},
   "outputs": [],
   "source": [
    "numeros_primos[len(numeros_primos)-1]"
   ]
  },
  {
   "cell_type": "markdown",
   "metadata": {},
   "source": [
    "A partir de esto es claro que entre los corchetes podemos colocar un número o cualquier expresión que retorne un número. Por ejemplo, los siguientes métodos son todos similares para acceder al cuarto elemento (es decir, aquel cuyo índice es 3)."
   ]
  },
  {
   "cell_type": "code",
   "execution_count": null,
   "metadata": {},
   "outputs": [],
   "source": [
    "numeros_primos[3] == numeros_primos[2+1]"
   ]
  },
  {
   "cell_type": "code",
   "execution_count": null,
   "metadata": {},
   "outputs": [],
   "source": [
    "indice=3\n",
    "numeros_primos[3] == numeros_primos[indice]"
   ]
  },
  {
   "cell_type": "markdown",
   "metadata": {},
   "source": [
    "Por último, para crear una **lista vacía** usamos dos corchetes sin elementos.\n",
    "\n",
    "Esto puede resultar útil cuando no conocemos los elementos de la lista al momento de crearla, pero los iremos añadiendo vía `append` o `insert` en el transcurso del programa."
   ]
  },
  {
   "cell_type": "code",
   "execution_count": null,
   "metadata": {},
   "outputs": [],
   "source": [
    "lista_vacia = []"
   ]
  },
  {
   "cell_type": "markdown",
   "metadata": {},
   "source": [
    "## Matrices\n",
    "Una lista puede contener otras listas como elementos. La sintaxis para lograr esto no se diferencia en modo alguno de lo que ya hemos aprendido."
   ]
  },
  {
   "cell_type": "code",
   "execution_count": null,
   "metadata": {},
   "outputs": [],
   "source": [
    "mi_lista = [[3.14, \"Hola mundo\"], [True, False, -5]]\n",
    "type(mi_lista)"
   ]
  },
  {
   "cell_type": "markdown",
   "metadata": {},
   "source": [
    "Este código crea una lista con dos elementos, que a su vez son listas:"
   ]
  },
  {
   "cell_type": "code",
   "execution_count": null,
   "metadata": {},
   "outputs": [],
   "source": [
    "print(mi_lista[0])\n",
    "print(mi_lista[1])"
   ]
  },
  {
   "cell_type": "markdown",
   "metadata": {},
   "source": [
    "Para acceder a los elementos de alguna de esas dos listas, simplemente agregamos otro par de corchetes:"
   ]
  },
  {
   "cell_type": "code",
   "execution_count": null,
   "metadata": {},
   "outputs": [],
   "source": [
    "print(mi_lista[0][0])\n",
    "print(mi_lista[0][1])\n",
    "print(mi_lista[1][0])\n",
    "print(mi_lista[1][1])"
   ]
  },
  {
   "cell_type": "markdown",
   "metadata": {},
   "source": [
    "Las matrices no son un tipo de colección particular en Python, sino que pueden simularse usando listas que contengan otras listas dentro de sí. Por ejemplo:"
   ]
  },
  {
   "cell_type": "code",
   "execution_count": null,
   "metadata": {},
   "outputs": [],
   "source": [
    "m1 = [[3.3, 6.1, 4.0], [4.9, 5.7, 6.4]]"
   ]
  },
  {
   "cell_type": "markdown",
   "metadata": {},
   "source": [
    "Ahora, según lo que acabamos de ver con el ejemplo de mi_lista , accedemos a los elementos indicando, entre corchetes, primero la **fila** y luego la **columna**."
   ]
  },
  {
   "cell_type": "code",
   "execution_count": null,
   "metadata": {},
   "outputs": [],
   "source": [
    "m1[0][2]"
   ]
  },
  {
   "cell_type": "code",
   "execution_count": null,
   "metadata": {},
   "outputs": [],
   "source": [
    "m1[1][1]"
   ]
  },
  {
   "cell_type": "code",
   "execution_count": null,
   "metadata": {},
   "outputs": [],
   "source": [
    "m2 = [[1,2,3,4],[5,6,7,8],[9,10,11,12]]\n",
    "print(m2[1])"
   ]
  },
  {
   "cell_type": "markdown",
   "metadata": {},
   "source": [
    "## Bucle While\n",
    "Los bucles son otra herramienta que permiten modificar el flujo de un programa. Vimos que los condicionales pueden diferir la ejecución del código según se cumpla una condición u otra. Asimismo, los bucles repiten un bloque de código en tanto en cuanto se cumpla una condición.\n",
    "El bucle “while” en particular repite una porción de código siempre que una expresión sea verdadera.\n",
    "\n",
    "Observemos la  sintaxis con el siguiente ejemplo:"
   ]
  },
  {
   "cell_type": "code",
   "execution_count": null,
   "metadata": {},
   "outputs": [],
   "source": [
    "a = 10\n",
    "while a < 5:\n",
    "    print(\"Hola mundo\")"
   ]
  },
  {
   "cell_type": "markdown",
   "metadata": {},
   "source": [
    "Ejecutando esto veremos que nuestro programa imprime “Hola mundo” **infinitamente**. Esto ocurre justamente porque el bloque de código del bucle, es decir, `print(\"Hola mundo\")`, se ejecuta siempre y cuando la condición `a < 5` sea verdadera.\n",
    "Puesto que a es 1 y no cambia su valor en todo el programa, la condición es siempre verdadera y el bucle se ejecuta infinitamente.\n",
    "\n",
    "Para que un bucle sea útil debe terminar en algún momento. Hay dos formas de conseguirlo: que la condición se vuelva falsa, o ejecutar una instrucción para forzar al bucle a que\n",
    "termine.\n",
    "\n",
    "Comencemos por la primera. Debemos hacer que `a < 5` sea falso en algún momento para que el bucle termine. Podemos lograrlo vía el siguiente código:"
   ]
  },
  {
   "cell_type": "code",
   "execution_count": null,
   "metadata": {},
   "outputs": [],
   "source": [
    "a = 1\n",
    "while a < 5:\n",
    "    print(\"Hola mundo\")\n",
    "    a = a + 1"
   ]
  },
  {
   "cell_type": "markdown",
   "metadata": {},
   "source": [
    "Ejecutemos este programa y veremos que el resultado ahora son cuatro `“Hola mundo”` impresos en pantalla. La lógica de este comportamiento se comprende fácilmente si entendemos cómo avanza un bucle `while`:\n",
    "1. Chequear que la condición sea verdadera.\n",
    "2. Si es verdadera, ejecutar el bloque de código.\n",
    "3. Si es falsa, terminar el bucle (y también estos pasos).\n",
    "4. Volver al paso 1.\n",
    "Así, nuestro bucle se ejecuta hasta que a se convierte en 5 , y en consecuencia la condición `a < 5` (esto es, 5 < 5 ) se vuelve falsa."
   ]
  },
  {
   "cell_type": "markdown",
   "metadata": {},
   "source": [
    "El segundo método para finalizar un bucle es vía la palabra reservada **break** . Cuando Python se encuentra con esta instrucción dentro de un bucle, éste termina abruptamente, por más que la condición siga siendo verdadera.\n",
    "\n",
    "Nuestro código anterior puede replicarse usando `break` del siguiente modo:"
   ]
  },
  {
   "cell_type": "code",
   "execution_count": null,
   "metadata": {},
   "outputs": [],
   "source": [
    "a = 1\n",
    "while True:\n",
    "    if a < 5:\n",
    "        print(\"Hola mundo\")\n",
    "        a = a + 1\n",
    "    else:\n",
    "        break"
   ]
  },
  {
   "cell_type": "markdown",
   "metadata": {},
   "source": [
    "Poner `True` en lugar de una condición hace sencillamente que el bucle se ejecute infinitamente. Luego nos encargaremos de terminarlo manualmente vía `break` cuando la condición ( a < 5 ) sea falsa."
   ]
  },
  {
   "cell_type": "markdown",
   "metadata": {},
   "source": [
    "## Bucle For\n",
    "El bucle `for`, como tal, también repite la ejecución de un bloque de código, pero no en base a una condición, como en el bucle `while`, sino tantas veces como `elementos` contenga una `lista`. \n",
    "\n",
    "El cuerpo del bucle `for` se ejecuta tantas veces como elementos tenga el elemento iterable. Cualquier iterable: listas, diccionarios, strings pueden ser utilizados.\n",
    "\n",
    "Veamos su sintaxis con el siguiente ejemplo:"
   ]
  },
  {
   "cell_type": "code",
   "execution_count": null,
   "metadata": {},
   "outputs": [],
   "source": [
    "b = 1\n",
    "alumnos = [\"Matias\", \"Jorge\", \"Maria\", \"Gabriela\"]\n",
    "for alumno in alumnos:\n",
    "    print(b)\n",
    "    b += 1\n",
    "    # b = b+1\n",
    "    \n",
    "print(len(alumnos))"
   ]
  },
  {
   "cell_type": "markdown",
   "metadata": {},
   "source": [
    "Por el momento prestemos únicamente atención a lo siguiente: si corremos este programa, el bloque de código dentro del `for` - `print(\"Hola mundo\")`- se ejecuta cuatro veces. Si\n",
    "agregamos un `elemento` a la `lista` de alumnos , veremos que se ejecutará cinco veces. Si agregamos otro más, seis. Y así sucesivamente. Los bucles `for` se aplican siempre sobre\n",
    "listas."
   ]
  },
  {
   "cell_type": "code",
   "execution_count": null,
   "metadata": {},
   "outputs": [],
   "source": [
    "alumnos = [\"Matias\", \"Jorge\", \"Maria\", \"Gabriela\"]\n",
    "m2 = [[1,2,3,4],[5,6,7,8],[9,10,11,12]]\n",
    "for elemento in m2:\n",
    "    print(elemento[-1])"
   ]
  },
  {
   "cell_type": "markdown",
   "metadata": {},
   "source": [
    "Lo que ocurre es que en cada ejecución del bloque de código (que por la cantidad de `elementos` que tiene nuestra `lista` serán cuatro) la variable alumno contendrá un `elemento` de\n",
    "la lista alumnos diferente, siguiendo el orden en el que fueron definidos. En efecto, el código anterior es funcionalmente igual al a este:"
   ]
  },
  {
   "cell_type": "code",
   "execution_count": null,
   "metadata": {},
   "outputs": [],
   "source": [
    "alumnos = [\"Matias\", \"Jorge\", \"Maria\", \"Gabriela\"]\n",
    "alumno = alumnos[0]\n",
    "print(alumno)\n",
    "alumno = alumnos[1]\n",
    "print(alumno)\n",
    "alumno = alumnos[2]\n",
    "print(alumno)\n",
    "alumno = alumnos[3]\n",
    "print(alumno)"
   ]
  },
  {
   "cell_type": "markdown",
   "metadata": {},
   "source": [
    "La diferencia es que el bucle `for` se encarga de realizar las asignaciones a la variable alumno de forma automática."
   ]
  },
  {
   "cell_type": "markdown",
   "metadata": {},
   "source": [
    "## Comparacion de bucles\n",
    "La mayoría de las tareas que requieren repitencia de un código (para las cuales los bucles son la herramienta ideal) pueden solucionarse usando cualquiera de los dos bucles que\n",
    "vimos. Sin embargo, en ocasiones es más pertinente alguno de ellos en particular. \n",
    "\n",
    "Supongamos que queremos imprimir números del uno al diez. Usar un `while` es una opción:"
   ]
  },
  {
   "cell_type": "code",
   "execution_count": null,
   "metadata": {},
   "outputs": [],
   "source": [
    "i = 1\n",
    "while i <= 10:\n",
    "    print(i)\n",
    "    i = i + 1"
   ]
  },
  {
   "cell_type": "markdown",
   "metadata": {},
   "source": [
    "La alternativa es un bucle `for`:"
   ]
  },
  {
   "cell_type": "code",
   "execution_count": null,
   "metadata": {},
   "outputs": [],
   "source": [
    "for i in [1, 2, 3, 4, 5, 6, 7, 8, 9, 10]:\n",
    "    print(i)"
   ]
  },
  {
   "cell_type": "markdown",
   "metadata": {},
   "source": [
    "## Range\n",
    "Aquí es claro cuál de los dos métodos es más conveniente: si ahora queremos imprimir números del uno al cien, el bucle `while` solo necesita modificar su condición por `i <= 100` .\n",
    "Pero en el caso segundo caso hay que agregar los noventa números restantes a la lista. Para solucionar este último inconveniente, Python incluye una instrucción llamada **range** que genera listas de números enteros en tiempo de ejecución. \n",
    "\n",
    "El código anterior, usando esta nueva instrucción, se expresa de la siguiente forma:"
   ]
  },
  {
   "cell_type": "code",
   "execution_count": null,
   "metadata": {},
   "outputs": [],
   "source": [
    "for i in range(0, 50, 10):\n",
    "    print(i)"
   ]
  },
  {
   "cell_type": "markdown",
   "metadata": {},
   "source": [
    "La instrucción `range(inicio, fin)` genera una lista de números desde inicio hasta fin-1 (de ahí que `range(1, 11)` produzca números del uno al diez). Ahora es mucho más fácil cambiar este código para imprimir números del uno al cien, simplemente reemplazando `range(1, 11)` por `range(1, 101)`.\n",
    "Otro argumento que puede utilizarse en `range(inicio, fin, saltos)`, donde la tercer opcion seran cada cuantos numeros haran los saltos del conteo. Ejemplo:"
   ]
  },
  {
   "cell_type": "code",
   "execution_count": null,
   "metadata": {},
   "outputs": [],
   "source": [
    "# Range con salto cada 2 numeros\n",
    "for i in range(1, 11, 2):\n",
    "    print(i)"
   ]
  },
  {
   "cell_type": "markdown",
   "metadata": {},
   "source": [
    "Hasta ahora vimos cómo crear una lista por extensión (es decir, escribiendo los elementos de la lista al momento de crearla) y vimos cómo crear una lista vacía para luego ir agregándole elementos. Existe otra manera más prolija y eficiente de crear listas que se llama por comprensión. Es muy parecido a crear una lista con un for, pero se hace todo en una sola línea."
   ]
  },
  {
   "cell_type": "code",
   "execution_count": null,
   "metadata": {},
   "outputs": [],
   "source": [
    "lista = [num for num in range(1001)]\n",
    "print(lista)"
   ]
  },
  {
   "cell_type": "markdown",
   "metadata": {},
   "source": [
    "También podemos agregar condiciones y expresiones a las listas por comprensión"
   ]
  },
  {
   "cell_type": "code",
   "execution_count": null,
   "metadata": {},
   "outputs": [],
   "source": [
    "lista = [num**2 for num in range(-10, 10) if ((num%2 == 0) | (num%3 == 0))]\n",
    "print(lista)"
   ]
  },
  {
   "cell_type": "markdown",
   "metadata": {},
   "source": [
    "La sintaxis completa de las listas por comprensión es la siguiente:\n",
    "\n",
    "[*expresión* **for** elemento **in** *iterable* **if** *condición*]\n",
    "\n",
    "A parte de ser más prolijas, las listas por comprensión son más eficientes."
   ]
  },
  {
   "cell_type": "markdown",
   "metadata": {},
   "source": [
    "## Ejercicios:"
   ]
  },
  {
   "cell_type": "markdown",
   "metadata": {},
   "source": [
    "* Crea un programa en donde el usuario especifique el numero, el programa le devuelva todos los numeros menores a el que sean divisibles por 2. Luego haz el mismo programa pero que sean multiplos de 3."
   ]
  },
  {
   "cell_type": "code",
   "execution_count": null,
   "metadata": {},
   "outputs": [],
   "source": [
    "#Escribe la solucion aqui\n",
    "numero = int(input(\"Ingrese un numero: \"))\n",
    "for j in range(numero):\n",
    "    if (j % 2 == 0 and j > 0) and (j % 3 == 0 and j > 0):\n",
    "        print(j, \"es divisible por 2 y 3\")\n",
    "        \n",
    "\n"
   ]
  },
  {
   "cell_type": "markdown",
   "metadata": {},
   "source": [
    "* Supongamos que necesitamos crear una lista con todos los números del 0 al 999."
   ]
  },
  {
   "cell_type": "code",
   "execution_count": null,
   "metadata": {},
   "outputs": [],
   "source": [
    "#Escribe la solucion aqui\n",
    "lista = [x for x in range(0,1000)]\n",
    "print(lista)\n"
   ]
  },
  {
   "cell_type": "markdown",
   "metadata": {},
   "source": [
    "* Supongamos que necesitamos crear una lista con todos los números del 0 al 999, pero solo con numeros pares!"
   ]
  },
  {
   "cell_type": "code",
   "execution_count": null,
   "metadata": {},
   "outputs": [],
   "source": [
    "\"\"\"#Escribe la solucion aqui\n",
    "lista = [x for x in range(0,1000,2)]\n",
    "print(lista)\"\"\"\n",
    "\n",
    "pares = []\n",
    "for num in range(1000):\n",
    "    if num %2 == 0:\n",
    "        pares.append(num)\n",
    "print(pares)\n",
    "    \n",
    "    "
   ]
  },
  {
   "cell_type": "markdown",
   "metadata": {},
   "source": [
    "* Escribe un programa que tome dos números enteros y calcule su división, devolviendo si la división es exacta o no."
   ]
  },
  {
   "cell_type": "code",
   "execution_count": null,
   "metadata": {},
   "outputs": [],
   "source": [
    "#Escribe la solucion aqui\n",
    "n1 = int(input(\"ingrese el dividendo \"))\n",
    "n2 = int(input(\"ingrese el divisor \"))\n",
    "\n",
    "if n1%n2 == 0 :\n",
    "    print(\"Division exacta\")\n",
    "else:\n",
    "    print(\"Division con resto\")\n",
    "    \n"
   ]
  },
  {
   "cell_type": "markdown",
   "metadata": {},
   "source": [
    "* Escribe un programa que tome un año y devuelva si es bisiesto o no."
   ]
  },
  {
   "cell_type": "code",
   "execution_count": null,
   "metadata": {},
   "outputs": [],
   "source": [
    "#Escribe la solucion aqui\n",
    "a = int(input(\"Ingrese un año\"))\n",
    "if a % 4 == 0:\n",
    "    print(a, \"es bisiesto\")\n",
    "else:\n",
    "    print(a, \"no es bisiesto\")"
   ]
  },
  {
   "cell_type": "markdown",
   "metadata": {},
   "source": [
    "* Realiza un programa que lea un numero impar por teclado. Si el usuario no introduce un numero impar, debe repetise el proceso hasta que lo introduzca correctamente."
   ]
  },
  {
   "cell_type": "code",
   "execution_count": null,
   "metadata": {},
   "outputs": [],
   "source": [
    "#Escribe la solucion aqui\n",
    "\"\"\"numero = 0\n",
    "while numero % 2 == 0:\n",
    "    numero = int(input(\"introduzca numero impar\"))\n",
    "    \"\"\"\n",
    "numero = int(input(\"introduzca numero impar\"))\n",
    "while True:\n",
    "    if numero% 2 ==0:\n",
    "        print(\"numero impar\")\n",
    "        numero = int(input(\"introduzca numero impar\"))\n",
    "    else:\n",
    "        break\n",
    "print(\"Saliendo del bucle, por impar\")"
   ]
  },
  {
   "cell_type": "markdown",
   "metadata": {},
   "source": [
    "* Realiza un programa que sume todos los numeros pares desde el 0 hasta el 100:"
   ]
  },
  {
   "cell_type": "code",
   "execution_count": null,
   "metadata": {},
   "outputs": [],
   "source": [
    "\"\"\"num = 0\n",
    "resultado = 0\n",
    "while num <= 100:\n",
    "    if num%2==0:\n",
    "        resultado = resultado + num\n",
    "    num = num+1\n",
    "resultado\"\"\"\n",
    "\n",
    "b = 0\n",
    "for i in range(0,101,2):\n",
    "    b = b+i\n",
    "    print(b)\n",
    "#Escribe la solucion aqui"
   ]
  },
  {
   "cell_type": "markdown",
   "metadata": {},
   "source": [
    "* Realiza un programa que sume todos los numeros impares desde el 0 hasta el 100:"
   ]
  },
  {
   "cell_type": "code",
   "execution_count": null,
   "metadata": {},
   "outputs": [],
   "source": [
    "#Escribe la solucion aqui\n",
    "\"\"\"b = 0\n",
    "for i in range(1,101,2):\n",
    "    b = b+i\n",
    "    print(b)\"\"\"\n",
    "    \n",
    "num = 0\n",
    "resultado = 0\n",
    "while num <= 100:\n",
    "    if num%2!=0:\n",
    "        resultado = resultado + num\n",
    "    num = num+1\n",
    "resultado"
   ]
  },
  {
   "cell_type": "markdown",
   "metadata": {},
   "source": [
    "* Realiza un programa que pida al usuario cuantos numeros quiere introducir. Luego lee todos los numeros y realiza una media aritmetica:"
   ]
  },
  {
   "cell_type": "code",
   "execution_count": null,
   "metadata": {},
   "outputs": [],
   "source": [
    "\"\"\"n = 0\n",
    "var = int(input(\"Cuantos numeros desea introducir? \"))\n",
    "\n",
    "for i in range(var):\n",
    "    var2 = int(input(\"numero:\"))\n",
    "    n = n + var2\n",
    "    \n",
    "print(\"la media aritmetica es\", n/var)\"\"\"\n",
    "\n",
    "a = int(input(\"Cuanto numeros introducimos?\"))\n",
    "\n",
    "d = 1\n",
    "resultado= 0\n",
    "while d<= a:\n",
    "    c = int(input(\"ingrese un numero\"))\n",
    "    resultado = resultado+c*(1/a)\n",
    "    d = d+1\n",
    "print(\"la media es\", resultado)\n",
    "#Escribe la solucion aqui"
   ]
  },
  {
   "cell_type": "markdown",
   "metadata": {},
   "source": [
    "* Crear un programa que solicite una fila y una columna e imprima en pantalla el número en esa posición según la siguiente matriz:\n",
    "\n",
    "    matriz = [[3.3, 6.1, 4.0], [4.9, 5.7, 6.4]]\n",
    "\n",
    "\n",
    "    Un ejemplo de entrada (lo que escribe el usuario) y salida (lo que se imprime en pantalla) es el siguiente (los caracteres en rojo son ingresados por el usuario):\n",
    "    \n",
    "    \n",
    "    Fila: 1\n",
    "    Columna: 2\n",
    "    6.4\n",
    "\n",
    "    El resultado es 6.4 puesto que es el valor ubicado en matriz[1][2].\n",
    "    El programa debe chequear que la fila y la columna tengan valores válidos. En este caso, las únicas filas válidas son 0 y 1; las columnas 0, 1 y 2. Si alguno de los dos valores es inválido, debe mostrar un mensaje de error."
   ]
  },
  {
   "cell_type": "code",
   "execution_count": null,
   "metadata": {},
   "outputs": [],
   "source": [
    "matriz = [[3.3, 6.1, 4.0], [4.9, 5.7, 6.4]]\n",
    "fila = int(input(\"Fila: \"))\n",
    "columna = int(input(\"columna: \"))\n",
    "if (fila == 0 or fila == 1) and (columna >= 0 and columna <=2):\n",
    "    print(matriz[fila][columna])\n",
    "else:\n",
    "    print(\"la fila/columna no es valida\")\n",
    "#Escribe la solucion aqui"
   ]
  },
  {
   "cell_type": "markdown",
   "metadata": {},
   "source": [
    "* Crear un programa que permita insertar una matriz, y que ésta sea almacenada como una lista de Python (que a su vez contendrá otras listas, tal como se vió en el material del alumno).\n",
    "\n",
    "    Por ejemplo, supongamos que queremos crear la siguiente matriz:\n",
    "    \n",
    "    **[ [ 5 , 1 , 15 ] , [ 10 , 9 , 6 ] ]**\n",
    "    \n",
    "    \n",
    "    Esta matriz contiene dos filas y tres columnas, dos datos que deberá requerir el programa y ser insertados por el usuario. Luego nuestro código procederá a solicitar los números (suponiendo que son todos enteros) correspondientes a cada celda."
   ]
  },
  {
   "cell_type": "code",
   "execution_count": 2,
   "metadata": {},
   "outputs": [
    {
     "name": "stdout",
     "output_type": "stream",
     "text": [
      "ingrese numero de filas: 3\n",
      "ingrese numero de columnas: 4\n",
      "ingrese numero para matriz[0]  [0]: 1\n",
      "ingrese numero para matriz[0]  [1]: 2\n",
      "ingrese numero para matriz[0]  [2]: 3\n",
      "ingrese numero para matriz[0]  [3]: 4\n",
      "ingrese numero para matriz[1]  [0]: 5\n",
      "ingrese numero para matriz[1]  [1]: 6\n",
      "ingrese numero para matriz[1]  [2]: 7\n",
      "ingrese numero para matriz[1]  [3]: 8\n",
      "ingrese numero para matriz[2]  [0]: 9\n",
      "ingrese numero para matriz[2]  [1]: 10\n",
      "ingrese numero para matriz[2]  [2]: 11\n",
      "ingrese numero para matriz[2]  [3]: 12\n",
      "[[1, 2, 3, 4], [5, 6, 7, 8], [9, 10, 11, 12]]\n"
     ]
    }
   ],
   "source": [
    "matriz = []\n",
    "\n",
    "\n",
    "filas = int(input(\"ingrese numero de filas: \"))\n",
    "columnas = int(input(\"ingrese numero de columnas: \"))\n",
    "\n",
    "for numero_fila in range(0, filas):\n",
    "    matriz.append([])\n",
    "    for numero_columna in range(0, columnas):\n",
    "        numero = int(input(\"ingrese numero para matriz[\" + str(numero_fila) +  \"]  [\"\n",
    "                           + str(numero_columna) + \"]: \"))\n",
    "        matriz[numero_fila].append(numero)\n",
    "    \n",
    "print(matriz)\n",
    "#Escribe la solucion aqui"
   ]
  },
  {
   "cell_type": "markdown",
   "metadata": {},
   "source": [
    "* Escribir un programa que pregunte al usuario los números ganadores de la lotería primitiva, los almacene en una lista y los muestre por pantalla ordenados de menor a mayor. \n",
    "\n",
    "    Puedes ordenar una lista con lista.sort()"
   ]
  },
  {
   "cell_type": "code",
   "execution_count": null,
   "metadata": {},
   "outputs": [],
   "source": [
    "#Escribe la solucion aqui"
   ]
  },
  {
   "cell_type": "markdown",
   "metadata": {},
   "source": [
    "* Escribir un programa que pregunte al usuario su edad y muestre por pantalla todos los años que ha cumplido (desde 1 hasta su edad)."
   ]
  },
  {
   "cell_type": "code",
   "execution_count": null,
   "metadata": {},
   "outputs": [],
   "source": [
    "#Escribe la solucion aqui"
   ]
  },
  {
   "cell_type": "code",
   "execution_count": null,
   "metadata": {},
   "outputs": [],
   "source": []
  }
 ],
 "metadata": {
  "kernelspec": {
   "display_name": "Python 3",
   "language": "python",
   "name": "python3"
  },
  "language_info": {
   "codemirror_mode": {
    "name": "ipython",
    "version": 3
   },
   "file_extension": ".py",
   "mimetype": "text/x-python",
   "name": "python",
   "nbconvert_exporter": "python",
   "pygments_lexer": "ipython3",
   "version": "3.6.5"
  }
 },
 "nbformat": 4,
 "nbformat_minor": 2
}
