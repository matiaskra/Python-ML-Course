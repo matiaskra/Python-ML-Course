{
 "cells": [
  {
   "cell_type": "markdown",
   "metadata": {},
   "source": [
    "# Curso de introduccion a Python y Machine Learning\n",
    "## Clase 1\n",
    "#### Indice:\n",
    "     Introduccion a la programación\n",
    "     Introduccion a Python\n",
    "     Instalacion de Python y Jupyter\n",
    "     Expresiones\n",
    "     Variables y estructura de datos\n",
    "     Entrada de datos (input) "
   ]
  },
  {
   "cell_type": "markdown",
   "metadata": {},
   "source": [
    "## Introducción a la programación:\n",
    "### Que es la programacion?\n",
    "Entendemos por programación la actividad de programar ; y por programar , el decirle a una\n",
    "computadora ─o, mejor dicho, cualquier dispositivo programable─ lo que tiene que hacer.\n",
    "De modo que la programación es un tipo de comunicación, comunicación entre un hombre\n",
    "(el programador) y una máquina (la que es programada). Y como todo tipo de comunicación,\n",
    "precisa de un lenguaje que sea comprendido tanto por el emisor como por el receptor. A ese\n",
    "lenguaje lo denominamos lenguaje de programación . El mensaje codificado según las reglas\n",
    "de un lenguaje de programación lo llamamos programa o aplicación.\n",
    "\n",
    "Existen muchos lenguajes de programación, esto es, como dijimos, medios de comunicación\n",
    "entre un programador y una computadora. Cada uno de ellos se caracteriza por algo en\n",
    "particular: en el proceso de “instruir” a una máquina para que ejecute las acciones que le\n",
    "indicamos, algunos lenguajes son más óptimos o acordes que otros para tal o cual tarea. Así,\n",
    "ciertos lenguajes están pensados para “hablarle” a un celular; otros, a una computadora de\n",
    "escritorio; otros, a un microondas. Y algunos son más fáciles de aprender, del mismo modo\n",
    "como decimos que el griego y el árabe son menos accesibles que el inglés. El inglés, no\n",
    "obstante, es más acorde si nos queremos dedicar al comercio internacional; así como el\n",
    "griego lo es para el estudio de los pensadores clásicos de la antigüedad.\n",
    "\n",
    "Pero seamos un poco más precisos: no es cierto que las computadoras comprendan las\n",
    "instrucciones que les comunicamos vía un lenguaje de programación. De hecho, solo están\n",
    "diseñadas para entender un dialecto al que se denomina código máquina . Pero escribir un\n",
    "conjunto de instrucciones directamente en este código es simplemente imposible para un\n",
    "hombre. Por ende, necesitaremos un “traductor” (que no es sino un programa) que convierta\n",
    "nuestras instrucciones escritas según las reglas de un lenguaje de programación en\n",
    "particular a código máquina.\n",
    "\n",
    "Python es un lenguaje de programación. Pero también llamamos Python al programa que\n",
    "traduce Python-el-lenguaje a código máquina para que pueda ser interpretado por una\n",
    "computadora. De ahí que en la expresión “instalar Python” nos referimos a\n",
    "Python-el-programa, mientras que “programar en Python” se refiere a Python-el-lenguaje.\n",
    "En la jerga, para evitar dicha ambigüedad, a Python-el-programa también se lo denomina\n",
    "intérprete .\n",
    "\n",
    "Python es un lenguaje que se caracteriza por tener una sintaxis sencilla (fácil de aprender\n",
    "para legos en programación) y clara (elocuente y de lectura fluida). Por ello resulta una\n",
    "herramienta ideal para iniciarse en esto de la programación. Pero independientemente del\n",
    "lenguaje que usaremos en este curso, lo más importante es que aprenderemos conceptos\n",
    "generales de la programación (aunque claro, con las particularidades de Python), que se\n",
    "aplicarán igualmente para otros. Así como aprender un segundo idioma es más sencillo\n",
    "habiendo dominado nuestra lengua materna, del mismo modo ocurre en el mundo de la\n",
    "programación. Y no es de extrañar que una misma persona, con el tiempo, acabe versada en\n",
    "varios lenguajes de programación; aunque por lo general uno termina tomando una decisión\n",
    "según sus propios gustos y especializándose en alguno en particular.\n",
    "\n",
    "Para finalizar este apartado, precisemos una clasificación que nos será útil para poder\n",
    "avanzar. Ya dijimos que un programa o aplicación es un conjunto de instrucciones escritas\n",
    "según las reglas de un lenguaje de programación. Si bien existen varios tipos de\n",
    "aplicaciones, en este curso estaremos trabajando con los siguientes dos:\n",
    "* Aplicaciones de consola\n",
    "* Aplicaciones de escritorio\n",
    "\n",
    "Por el momento basta con saber que en Python los programas son, por defecto, aplicaciones\n",
    "de consola.\n",
    "Estructura de un programa\n",
    "Me permito usar la siguiente analogía (harto trillada): escribir un programa ( i.e. programar)\n",
    "es como redactar una receta de cocina. La diferencia es que quien escribe es un\n",
    "programador y quien “cocina”, una máquina. Las computadoras, a diferencia de los\n",
    "cocineros, nunca se equivocan al interpretar una “receta”. Siempre hacen lo que le decimos,\n",
    "al pie de la letra. Todos los problemas que surgen en la industria del software radican en\n",
    "creer que le estamos indicando una actividad X a una máquina cuando, en realidad,\n",
    "programamos una actividad Y. Esto es, cuando hay una disociación entre lo que le “decimos”\n",
    "y lo que quisimos decir.\n",
    "\n",
    "De esta primera definición se sigue que podemos escribir un programa tanto en un pizarrón\n",
    "como en un programa pensado para esa tarea (al que llamamos editor de código ). Las\n",
    "instrucciones de los programas tienen una disposición similar a la del español: se interpretan\n",
    "de arriba a abajo y de izquierda a derecha. Aunque a veces podemos indicarle que queremos\n",
    "que tal instrucción o conjunto de instrucciones se ejecute dos o más veces, o que en\n",
    "ocasiones no se ejecute, o que se vuelva a la primera instrucción, entre otras cosas\n",
    "similares. Este recorrido del código (entendemos código por conjuntos de instrucciones ) que\n",
    "hace una máquina al interpretarlo se denomina flujo de un programa .\n",
    "\n",
    "Un conjunto de instrucciones con el objetivo de obtener un determinado comportamiento se\n",
    "conoce como algoritmo (según el diccionario de la RAE: conjunto ordenado y finito de\n",
    "operaciones que permite hallar la solución de un problema ). Por ejemplo, el proceso por el\n",
    "cual se calculan las raíces de una ecuación de segundo grado constituye un algoritmo.\n"
   ]
  },
  {
   "cell_type": "markdown",
   "metadata": {},
   "source": [
    "## Por que Python? \n",
    "\n",
    "Uno de los motivos por el cual Python ha crecido en los ultimos años es su gran comunidad de código abierto. Existen muchos eventos a los que se puede asistir para aprender más acerca de lo que se trabaja en Python. Todos ellos son inclusivos y abiertos al público.\n",
    "\n",
    "Algunos ejemplos:\n",
    "\n",
    "**Conferencias**  \n",
    "[PyCon Argentina](https://twitter.com/pyconar/status/1147119669049999364). Conferencia Anual de Python organizada por [PyAr](https://www.python.org.ar/), comunidad Python Argentina.    \n",
    "[PyData Argentina](https://pydata.org/cordoba2019/). Evento enfocado a Analisis de datos y Data science utilizando Python, R y Julia.\n",
    "\n",
    "**MeetUps**  \n",
    "[Data Science Argentina](https://www.meetup.com/es/Argentina-Data-Science-Meetup/)  \n",
    "[PyData Buenos Aires](https://www.meetup.com/es/PyData-Buenos-Aires/)  \n",
    "[Women in Machine Learning Buenos Aires](https://www.meetup.com/es/Buenos-Aires-Women-in-Machine-Learning-Data-Science/)\n",
    "\n",
    "\n",
    "Python es un lenguaje de programación de propósito general muy poderoso y flexible, a la vez que sencillo y fácil de aprender.\n",
    "\n",
    "**¿Donde recurro cuando estoy trabada o no se qué hacer?**\n",
    "\n",
    "Python posee una amplia documentación que nos permite investigar cada función que contiene el lenguaje. Podes chequearla [acá](https://docs.python.org/3/)\n",
    "\n",
    "Otra fuente para obtener respuestas es [Stackoverflow](https://es.stackoverflow.com/) o por supuesto, Google."
   ]
  },
  {
   "cell_type": "markdown",
   "metadata": {},
   "source": [
    "## Manos a la obra!\n",
    "### Instalación de Python y Jupyter Notebook"
   ]
  },
  {
   "cell_type": "markdown",
   "metadata": {},
   "source": [
    "Antes de empezar a programar debemos instalar las aplicaciones necesarias para esta tarea.\n",
    "Lo principal para este curso es tener instalado Python (ya dijimos en el apartado anterior a\n",
    "qué nos referimos con esto). Para ello vamos a dirigirnos a la página oficial del lenguaje\n",
    "(www.python.org) y seguir los pasos.\n",
    "#### Importante:\n",
    "A la hora de instalarlo no deben olvidar seleccionar `Add Python 3.x to Path`, así evitaremos problemas de configuración con el editor más adelante."
   ]
  },
  {
   "cell_type": "markdown",
   "metadata": {},
   "source": [
    "En estas clases utilizaremos **Jupyter Notebook**. La ventaja de jupyter notebook es que permite mezclar celdas `Markdown` con celdas de código.\n",
    "\n",
    "1) **Markdown** es un lenguaje de marcado que permite dar formato a un texto de manera rápida y fácil.\n",
    " \n",
    "Para utilizarlo debes seguir ciertas convenciones que puedas consultar en la siguiente página web: [Guía Markdown](https://joedicastro.com/pages/markdown.html)\n",
    "\n",
    "2) Por otro lado, en las celdas de código es donde vamos a escribir el código **Python**.  \n",
    "\n",
    "Prestale atención a los corchetes que se encuentran al lado de cada celda de Python. Cuando tienen un número significa que esa celda ha sido corrida. Cuando tienen `*` implica que la celda esta corriendo.\n",
    "\n",
    "Python posee una guía de estilo, que si bien no es obligatoria, se **RECOMIENDA** seguir. Podes leer acerca de las convenciones establecidas en el [PEP8](https://www.python.org/dev/peps/pep-0008/).\n",
    "\n",
    "El simbolo `#` se utiliza para determinar un comentario. Esto significa que al verlo, Python entendera que esa línea no corresponde a código que debe correrse.\n",
    "\n",
    "Comentar el código es una practica muy útil para explicar que hace una linea de código. La convención es que el comentario se haga en la línea anterior a la linea de código correspondiente.\n",
    "\n",
    "La filosofía de Python hace hincapié en una sintaxis que favorezca un código legible. Esta filosofía se resumen en lo que se conoce como el **ZEN de Python**."
   ]
  },
  {
   "cell_type": "code",
   "execution_count": null,
   "metadata": {},
   "outputs": [],
   "source": [
    "#Corre esta linea para descubrir el zen de Python\n",
    "import this"
   ]
  },
  {
   "cell_type": "markdown",
   "metadata": {},
   "source": [
    "Empecemos con una función muy simple de Python: `print()`. Esta función imprime la variable que se le pase."
   ]
  },
  {
   "cell_type": "code",
   "execution_count": null,
   "metadata": {},
   "outputs": [],
   "source": [
    "#Corre esta celda para descrubir el output\n",
    "print(\"Python es muy fácil de aprender\")"
   ]
  },
  {
   "cell_type": "markdown",
   "metadata": {},
   "source": [
    "Prueba modificar el texto dentro de las comillas para poder editar lo que quieres imprimir"
   ]
  },
  {
   "cell_type": "markdown",
   "metadata": {},
   "source": [
    "## Expresiones\n",
    "Avancemos un poco más con el diseño del código. Todos los lenguajes de programación\n",
    "tienen la capacidad de ejecutar `operaciones matemáticas simples` (suma, resta,\n",
    "multiplicación, división); es decir, incorporan una suerte de calculadora virtual que podemos\n",
    "usar en nuestros programas para hacer este tipo de operaciones. La `sintaxis` (por sintaxis\n",
    "entendemos el orden y la relación de los términos de un lenguaje necesarios para que una\n",
    "instrucción sea comprendida) para realizar una suma en Python es similar a la que usamos\n",
    "en matemática para expresar dicha operación."
   ]
  },
  {
   "cell_type": "code",
   "execution_count": null,
   "metadata": {},
   "outputs": [],
   "source": [
    "#Ejecuta esta linea!\n",
    "5 + 7"
   ]
  },
  {
   "cell_type": "markdown",
   "metadata": {},
   "source": [
    "Python puede usarse para hacer calculos básicos. Veamos alguna de las funciones que pueden ser utilizadas en Python"
   ]
  },
  {
   "cell_type": "code",
   "execution_count": null,
   "metadata": {},
   "outputs": [],
   "source": [
    "#Suma\n",
    "print(4+3)\n",
    "#Resta\n",
    "print(5-2)\n",
    "#Multiplicacion\n",
    "print(3 * 5)\n",
    "#División\n",
    "print(10 / 2)"
   ]
  },
  {
   "cell_type": "code",
   "execution_count": null,
   "metadata": {},
   "outputs": [],
   "source": [
    "#Corre las siguientes celdas y descubre que funciones se utilizan\n",
    "print(4 ** 2)\n",
    "print(18 % 7)\n",
    "print(7//2)"
   ]
  },
  {
   "cell_type": "markdown",
   "metadata": {},
   "source": [
    "#### EXPLICACION\n",
    "*La primera funcion es la potenciación esto es $4^2$*\n",
    "\n",
    "*El operador % devuelve el resto de la division, en este caso entre 18 y 7* (llamado `modulo`)\n",
    "\n",
    "*El operador // devuelve el cociente de la division entre 7 y 3*"
   ]
  },
  {
   "cell_type": "markdown",
   "metadata": {},
   "source": [
    "## Variables y Estructura de datos\n",
    "\n",
    "### Asignación de variables:\n",
    "\n",
    "En Python, una variable permite referir a un valor utilizando un nombre en especifico. Para crear una variable, se debe usar `=` como en el siguiente ejemplo:"
   ]
  },
  {
   "cell_type": "code",
   "execution_count": null,
   "metadata": {},
   "outputs": [],
   "source": [
    "a = 8"
   ]
  },
  {
   "cell_type": "markdown",
   "metadata": {},
   "source": [
    "Ahora, sigue las instrucciones de los comentarios."
   ]
  },
  {
   "cell_type": "code",
   "execution_count": null,
   "metadata": {},
   "outputs": [],
   "source": [
    "# Ejecuta para invocar a la variable\n",
    "a"
   ]
  },
  {
   "cell_type": "code",
   "execution_count": null,
   "metadata": {},
   "outputs": [],
   "source": [
    "#Asigna 100 a la variable mi_variable\n",
    "mi_variable = 100"
   ]
  },
  {
   "cell_type": "code",
   "execution_count": null,
   "metadata": {},
   "outputs": [],
   "source": [
    "#Muestra el contenido de la variable\n",
    "print(mi_variable)"
   ]
  },
  {
   "cell_type": "markdown",
   "metadata": {},
   "source": [
    "Las variables pueden ser llamadas posteriormente. Además podemos realizar calculos y operaciones con ellas."
   ]
  },
  {
   "cell_type": "code",
   "execution_count": null,
   "metadata": {},
   "outputs": [],
   "source": [
    "#Crea una variable llamada factor que contenga el numero 1.1\n",
    "factor = 1.1\n",
    "\n",
    "#Calcula el resultado de elevar a la 7 la varible factor multiplicarla \n",
    "#por el numero contenido en mi_varible y asignala a una nueva variable\n",
    "#llamada resultado\n",
    "\n",
    "#Imprime el resultado\n"
   ]
  },
  {
   "cell_type": "markdown",
   "metadata": {},
   "source": [
    "Hay ciertas reglas que se deben cumplir a la hora de declarar una variable:  \n",
    "\n",
    "- Los nombres de las variables siempre aparecen a la izquierda de `=`.\n",
    "- Python diferencia mayusculas de minusculas en el nombre de las variables.\n",
    "- Los nombres de las variables DEBEN comenzar con una letra. Luego pueden contener nombres y guiones bajos `_`. Pero no pueden contener caracteres especiales (como por ejemplo, `&`, `*`, `#`, etc).\n",
    "- Si bien Python no le importa como llames a tus variables, los nombres de las variables deben ser descriptivos de los valores o datos que contienen para que otras personas puedan interpretarlo.\n",
    "- Lee más acerca de estas convenciones en el **PEP8**."
   ]
  },
  {
   "cell_type": "markdown",
   "metadata": {},
   "source": [
    "**PALABRAS RESERVADAS**: Hay 33 palabras que no podes utilizar como nombres de variables, debido a que estan reservadas para el lenguaje ya que cumplen una función particular en Python."
   ]
  },
  {
   "cell_type": "markdown",
   "metadata": {},
   "source": [
    "_Ellas son_: False, None, True, and, as, assert, break, class, continue, def, del, elif, else, except, finally, for, from, global, if, import, in, is, lambda, nonlocal, not, or, pass, raise, return, try, while, with, yield\n",
    "\n"
   ]
  },
  {
   "cell_type": "markdown",
   "metadata": {},
   "source": [
    "## Entrada de datos\n",
    "Hasta el momento hemos estado usando la instrucción print para imprimir información en la\n",
    "consola. La operación inversa es la entrada de datos, esto es, que el usuario ingrese\n",
    "información en la consola y podamos guardarla en una variable. \n",
    "\n",
    "En Python esto se realiza vía la instrucción input ."
   ]
  },
  {
   "cell_type": "code",
   "execution_count": null,
   "metadata": {},
   "outputs": [],
   "source": [
    "#Ejecuta esta linea\n",
    "nombre = input(\"Escribe tu nombre: \")"
   ]
  },
  {
   "cell_type": "markdown",
   "metadata": {},
   "source": [
    "Notarás que input es similar a print , puesto que lo que indicamos entre paréntesis y entre comillas será mostrado en pantalla. Pero a diferencia de ésta, de input decimos que “retorna” un valor (así como 7 + 5 retornaba 12 ), que no es otra cosa que lo escrito en la consola por el usuario, y lo almacenamos en una variable que queramos.\n",
    "\n",
    "Una vez ingresado el nombre podemos imprimirlo en pantalla:"
   ]
  },
  {
   "cell_type": "code",
   "execution_count": null,
   "metadata": {},
   "outputs": [],
   "source": [
    "#Ejecuta esta linea\n",
    "nombre = input(\"Escribe tu nombre: \")\n",
    "print(nombre)"
   ]
  },
  {
   "cell_type": "markdown",
   "metadata": {},
   "source": [
    "También, como el resultado de input es siempre una cadena, podemos usar el operador de\n",
    "suma para mostrar un saludo:"
   ]
  },
  {
   "cell_type": "code",
   "execution_count": null,
   "metadata": {},
   "outputs": [],
   "source": [
    "#Ejecuta esta linea\n",
    "nombre = input(\"Escribe tu nombre:\")\n",
    "print(\"Hola \" + nombre)"
   ]
  },
  {
   "cell_type": "code",
   "execution_count": null,
   "metadata": {},
   "outputs": [],
   "source": []
  },
  {
   "cell_type": "markdown",
   "metadata": {},
   "source": [
    "## Ejercicios:"
   ]
  },
  {
   "cell_type": "markdown",
   "metadata": {},
   "source": [
    "* Escribir un programa que muestre por pantalla la frase ¡Hola mundo!"
   ]
  },
  {
   "cell_type": "code",
   "execution_count": null,
   "metadata": {},
   "outputs": [],
   "source": [
    "#Escribe aqui la solucion\n",
    "saludo = \"hola mundo\"\n",
    "print(\"hola mundo\")"
   ]
  },
  {
   "cell_type": "markdown",
   "metadata": {},
   "source": [
    "* Escribir un programa que almacene la cadena ¡Hola Mundo! en una variable y luego muestre por pantalla el contenido de la variable."
   ]
  },
  {
   "cell_type": "code",
   "execution_count": null,
   "metadata": {},
   "outputs": [],
   "source": [
    "#Escribe aqui la solucion\n",
    "saludo = \"HOLA MUNDO\"\n",
    "print(saludo)"
   ]
  },
  {
   "cell_type": "markdown",
   "metadata": {},
   "source": [
    "* Escribir un programa que pregunte el nombre del usuario en la consola y después de que el usuario lo introduzca muestre por pantalla la cadena ¡Hola < nombre >!, donde < nombre > es el nombre que el usuario haya introducido."
   ]
  },
  {
   "cell_type": "code",
   "execution_count": null,
   "metadata": {},
   "outputs": [],
   "source": [
    "#Escribe aqui la solucion\n",
    "comosellama = input(\"como es su nombre?\")\n",
    "print(\"Hola \" + comosellama + \" !\")"
   ]
  },
  {
   "cell_type": "markdown",
   "metadata": {},
   "source": [
    "* Escribir un programa que pregunte el nombre del usuario en la consola y un número entero e imprima por pantalla en líneas distintas el nombre del usuario tantas veces como el número introducido."
   ]
  },
  {
   "cell_type": "code",
   "execution_count": null,
   "metadata": {},
   "outputs": [],
   "source": [
    "#Escribe aqui la solucion\n",
    "nombre = input(\"Escriba su nombre:\")\n",
    "numero = int(input(\"numero: \"))\n",
    "\n",
    "print( (nombre + \"\\t\" )* numero)"
   ]
  },
  {
   "cell_type": "markdown",
   "metadata": {},
   "source": [
    "* Escribir un programa que pida al usuario su peso (en kg) y estatura (en metros), calcule el índice de masa corporal y lo almacene en una variable, y muestre por pantalla la frase Tu índice de masa corporal es < imc> donde < imc> es el índice de masa corporal calculado redondeado con dos decimales."
   ]
  },
  {
   "cell_type": "code",
   "execution_count": 5,
   "metadata": {},
   "outputs": [
    {
     "name": "stdout",
     "output_type": "stream",
     "text": [
      "Cual es su peso en kg90\n",
      "Cual es su altura en metros1.88\n",
      "Tu indice de masa corporal es: 25.5\n"
     ]
    }
   ],
   "source": [
    "#Escribe aqui la solucion\n",
    "# Indice de masa corporal es peso dividido altura al cuadrado\n",
    "\n",
    "peso = input(\"Cual es su peso en kg\")\n",
    "altura= input(\"Cual es su altura en metros\")\n",
    "imc = round(float(peso)/float(altura)**2,2)\n",
    "print(\"Tu indice de masa corporal es:\" , round(imc, 1))"
   ]
  },
  {
   "cell_type": "markdown",
   "metadata": {},
   "source": [
    "* Supongamos que tenemos $100, que podemos invertir obteniendo el 10\\% de interes cada año. Luego del primer año, tendremos 100*1.1, luego de dos años tendremos 100*1.1*1.1. ¿Cuanto tendrás luego de 7 años?"
   ]
  },
  {
   "cell_type": "code",
   "execution_count": 8,
   "metadata": {},
   "outputs": [
    {
     "name": "stdout",
     "output_type": "stream",
     "text": [
      "el resultado es:  194.87\n"
     ]
    }
   ],
   "source": [
    "#Escribe aqui la solucion\n",
    "resultado = (1.1**7)*100\n",
    "print(\"el resultado es: \", round(resultado, 2))"
   ]
  },
  {
   "cell_type": "markdown",
   "metadata": {},
   "source": [
    "* Mostrar el precio del IVA de un producto con un valor de 100 y su precio final"
   ]
  },
  {
   "cell_type": "code",
   "execution_count": 11,
   "metadata": {},
   "outputs": [
    {
     "name": "stdout",
     "output_type": "stream",
     "text": [
      "Introduce el precio del producto:500\n",
      "El precio con iva es 605.0 $\n",
      "El iva del producto es: 105.0 $\n"
     ]
    }
   ],
   "source": [
    "#Escribe aqui la solucion\n",
    "IVA = 0.21\n",
    "precio_producto = float(input(\"Introduce el precio del producto:\"))\n",
    "precio_con_iva = (precio_producto * IVA) + precio_producto\n",
    "print(\"El precio con iva es\", precio_con_iva , \"$\")\n",
    "print(\"El iva del producto es:\", precio_producto*IVA, \"$\")"
   ]
  },
  {
   "cell_type": "markdown",
   "metadata": {},
   "source": [
    "* Escribir un programa donde pida ingresar 3 notas y luego muestre por pantalla el promedio de ellas"
   ]
  },
  {
   "cell_type": "code",
   "execution_count": 14,
   "metadata": {},
   "outputs": [
    {
     "name": "stdout",
     "output_type": "stream",
     "text": [
      "introduce una nota:5\n",
      "introduce una nota:10\n",
      "introduce una nota:8\n",
      "el promedio es: 7.67\n"
     ]
    }
   ],
   "source": [
    "#Escribe aqui la solucion\n",
    "nota_1 = float(input(\"introduce una nota:\"))\n",
    "nota_2 = float(input(\"introduce una nota:\"))\n",
    "nota_3 = float(input(\"introduce una nota:\"))\n",
    "\n",
    "media = (nota_1+nota_2+nota_3)/3\n",
    "print(\"el promedio es:\", round(media,2))"
   ]
  },
  {
   "cell_type": "markdown",
   "metadata": {},
   "source": [
    "* Modificar el programa anterior de modo que la nota final sea la suma del 15% de la primer nota, el 35% de la segunda y el 50% de la tercer nota"
   ]
  },
  {
   "cell_type": "code",
   "execution_count": 15,
   "metadata": {},
   "outputs": [
    {
     "name": "stdout",
     "output_type": "stream",
     "text": [
      "introduce una nota:8\n",
      "introduce una nota:9\n",
      "introduce una nota:4\n",
      "La nota final es:\t 6.35\n"
     ]
    }
   ],
   "source": [
    "#Escribe aqui la solucion\n",
    "nota_1 = float(input(\"introduce una nota:\"))\n",
    "nota_2 = float(input(\"introduce una nota:\"))\n",
    "nota_3 = float(input(\"introduce una nota:\"))\n",
    "\n",
    "nota_final = nota_1 *0.15 + nota_2*0.35 + nota_3*0.5\n",
    "print(\"La nota final es:\\t\" , nota_final)"
   ]
  },
  {
   "cell_type": "markdown",
   "metadata": {},
   "source": [
    "* Crear, en un script de Python, tres variables nombradas a, b y c con valores numéricos cualesquiera; una cuarta llamada resultado que sea la suma de las primeras tres, y por último imprimir en pantalla cada una de ellas. Antes de mostrar el valor de cada variable, indicar su nombre en una línea anterior"
   ]
  },
  {
   "cell_type": "code",
   "execution_count": 16,
   "metadata": {},
   "outputs": [
    {
     "name": "stdout",
     "output_type": "stream",
     "text": [
      "a: 5\n",
      "b: 7\n",
      "c: 10\n",
      "resultado: 22\n"
     ]
    }
   ],
   "source": [
    "#Escribe aqui la solucion\n",
    "a = 5\n",
    "b = 7\n",
    "c = 10\n",
    "resultado = a+b+c\n",
    "\n",
    "print(\"a:\", a)\n",
    "print(\"b:\", b)\n",
    "print(\"c:\", c)\n",
    "print(\"resultado:\", resultado)\n"
   ]
  },
  {
   "cell_type": "code",
   "execution_count": null,
   "metadata": {},
   "outputs": [],
   "source": []
  }
 ],
 "metadata": {
  "kernelspec": {
   "display_name": "Python 3",
   "language": "python",
   "name": "python3"
  },
  "language_info": {
   "codemirror_mode": {
    "name": "ipython",
    "version": 3
   },
   "file_extension": ".py",
   "mimetype": "text/x-python",
   "name": "python",
   "nbconvert_exporter": "python",
   "pygments_lexer": "ipython3",
   "version": "3.6.5"
  }
 },
 "nbformat": 4,
 "nbformat_minor": 2
}
