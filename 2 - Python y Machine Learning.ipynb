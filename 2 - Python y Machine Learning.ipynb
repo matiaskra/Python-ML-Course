{
 "cells": [
  {
   "cell_type": "markdown",
   "metadata": {},
   "source": [
    "# Curso de introduccion a Python y Machine Learning\n",
    "## Clase 2\n",
    "#### Indice:\n",
    "    Tipos de datos:\n",
    "        * Enteros\n",
    "        * Flotantes\n",
    "        * Cadenas de texto\n",
    "        * Booleanos\n",
    "    Operaciones Aritmeticas\n",
    "    Operaciones Comparativas\n",
    "    Operaciones Logicas\n",
    "    Condicionales (IF)"
   ]
  },
  {
   "cell_type": "markdown",
   "metadata": {},
   "source": [
    "### Tipos de dato\n",
    "Los tipos de dato permiten clasificar la información que contiene una variable. En Python,\n",
    "distinguimos cuatro tipos de dato básicos: números enteros(`int`), números de coma flotante\n",
    "(`float`), cadenas de texto(`strings`) y booleanos (`bool`), que solo pueden contener dos valores: verdadero o falso.\n",
    "\n",
    "Python nos provee una función útil para chequear que tipo de variable contiene cada variable definida: `type()` [Chequea la documentación](https://docs.python.org/3/library/functions.html?highlight=type#type). "
   ]
  },
  {
   "cell_type": "markdown",
   "metadata": {},
   "source": [
    "### Enteros (`int`)"
   ]
  },
  {
   "cell_type": "markdown",
   "metadata": {},
   "source": [
    "El primer tipo de datos que podemos tener son numeros enteros, que corresponde al tipo `int` en Python."
   ]
  },
  {
   "cell_type": "code",
   "execution_count": null,
   "metadata": {},
   "outputs": [],
   "source": [
    "#Declara la variable mi_numero y asignale el numero 4\n",
    "mi_numero = 4\n",
    "\n",
    "#Declara la variable otro_numero y asignale el numero -1\n",
    "otro_numero = -1\n",
    "\n",
    "#Chequea que tipo de variables son mi_numero y otro_numero\n",
    "print(type(mi_numero))\n",
    "print(type(otro_numero))"
   ]
  },
  {
   "cell_type": "code",
   "execution_count": null,
   "metadata": {},
   "outputs": [],
   "source": [
    "#Imprime el resultado de multiplicar mi_numero y otro_numero\n",
    "print(mi_numero*otro_numero)"
   ]
  },
  {
   "cell_type": "markdown",
   "metadata": {},
   "source": [
    "### FLOTANTES (`float`)\n",
    "\n",
    "Además de enteros, los datos también pueden ser de tipo flotantes. Esto es pueden contener numeros como `5.5`, `7.7`, `9014019401.43`. Este tipo de variable corresponde a `float` en Python."
   ]
  },
  {
   "cell_type": "code",
   "execution_count": null,
   "metadata": {},
   "outputs": [],
   "source": [
    "#Declara la variable float_numero y asignale el numero 4.9\n",
    "float_numero = 4.9\n",
    "\n",
    "#Chequea que tipo de variable es float_numero\n",
    "print(type(float_numero))"
   ]
  },
  {
   "cell_type": "code",
   "execution_count": null,
   "metadata": {},
   "outputs": [],
   "source": [
    "#Imprime el resultado de elevar float_numero a mi_numero, declarado anteriormente\n",
    "print(float_numero**mi_numero)"
   ]
  },
  {
   "cell_type": "markdown",
   "metadata": {},
   "source": [
    "### BOOLEANOS (`bool`)\n",
    "Una variable booleana es una variable lógica que admite solo dos valores `True` y `False`. "
   ]
  },
  {
   "cell_type": "code",
   "execution_count": null,
   "metadata": {},
   "outputs": [],
   "source": [
    "#Corre la siguiente linea \n",
    "mi_bool = True"
   ]
  },
  {
   "cell_type": "code",
   "execution_count": null,
   "metadata": {},
   "outputs": [],
   "source": [
    "#Ahora asigna a la variable otra_bool el valor False\n",
    "otra_bool = False"
   ]
  },
  {
   "cell_type": "code",
   "execution_count": null,
   "metadata": {},
   "outputs": [],
   "source": [
    "#Chequea que tipo de variables son mi_bool y otra_bool\n",
    "print(type(mi_bool))\n",
    "print(type(otra_bool))"
   ]
  },
  {
   "cell_type": "markdown",
   "metadata": {},
   "source": [
    "Pese a que las variables booleanas son definidas con los valores `True` y `False`, Python las trata como numeros. "
   ]
  },
  {
   "cell_type": "code",
   "execution_count": null,
   "metadata": {},
   "outputs": [],
   "source": [
    "#Prueba que ocurre si sumamos mi_bool y otra_bool\n",
    "mi_bool + otra_bool"
   ]
  },
  {
   "cell_type": "markdown",
   "metadata": {},
   "source": [
    "### CADENA DE CARACTERES (`string`) \n",
    "La cadena de caracteres o string es otro tipo de datos que podemos encontrar en Python. Estas variables poseen de particular que se definen utilizando comillas, como en el ejemplo siguiente:"
   ]
  },
  {
   "cell_type": "code",
   "execution_count": null,
   "metadata": {},
   "outputs": [],
   "source": [
    "#Corre las siguientes lineas\n",
    "mi_frase = \"Aprender Python es muy sencillo\"\n",
    "segunda_frase = 'Solo hay que practicar'\n",
    "print(mi_frase)\n",
    "print(segunda_frase)"
   ]
  },
  {
   "cell_type": "markdown",
   "metadata": {},
   "source": [
    "#### Comillas\n",
    "Como habras observado arriba, se pueden utilizar comillas dobles como simples para definir strings. La regla es que utilices las mismas comillas para **abrir y cerrar** el string."
   ]
  },
  {
   "cell_type": "code",
   "execution_count": null,
   "metadata": {},
   "outputs": [],
   "source": [
    "#Define un string que quieras y asignaselo a la variable mi_primer_string\n",
    "\n",
    "\n",
    "#Imprime la variable mi_primer_string\n"
   ]
  },
  {
   "cell_type": "code",
   "execution_count": null,
   "metadata": {},
   "outputs": [],
   "source": [
    "#Define un segundo string y asignaselo a la variable segundo_string\n"
   ]
  },
  {
   "cell_type": "code",
   "execution_count": null,
   "metadata": {},
   "outputs": [],
   "source": [
    "#Ahora aplica el operador suma (+) entre las dos variables y fijate que pasa\n"
   ]
  },
  {
   "cell_type": "markdown",
   "metadata": {},
   "source": [
    "Como observaste los strings también pueden sumarse, o en terminos más correctos, **concatenarse**.\n",
    "\n",
    "Python también nos permite acceder a un elemento del string o una porción de él. Esto se realiza mediante el uso de indices que se especifican con corchetes `[]`."
   ]
  },
  {
   "cell_type": "code",
   "execution_count": null,
   "metadata": {},
   "outputs": [],
   "source": [
    "#Defino un string\n",
    "prueba_indice = \"Acceder a un caracter es facil\"\n",
    "\n",
    "#Accedo al tercer caracter\n",
    "prueba_indice[3]"
   ]
  },
  {
   "cell_type": "markdown",
   "metadata": {},
   "source": [
    "**¿Observaste bien?** Si especifico el indice 3, me trae el 4to caracter. Esto es porque en Python los indices comienzan en 0. Entonces, el primer caracter tiene indice 0, el segundo 1 y asi sucesivamente."
   ]
  },
  {
   "cell_type": "code",
   "execution_count": null,
   "metadata": {},
   "outputs": [],
   "source": [
    "#Accede al octavo caracter del string prueba_indice\n",
    "\n",
    "\n",
    "#Accede al quinto caracter del string prueba_indice\n"
   ]
  },
  {
   "cell_type": "markdown",
   "metadata": {},
   "source": [
    "También es posible acceder a una porción del string. Esto se hace utilizando también corchetes [], pero se especifica el indice donde comienzo, luego : y luego el indice donde termino."
   ]
  },
  {
   "cell_type": "code",
   "execution_count": null,
   "metadata": {},
   "outputs": [],
   "source": [
    "#Corre la siguiente linea\n",
    "print(prueba_indice[8:22])"
   ]
  },
  {
   "cell_type": "markdown",
   "metadata": {},
   "source": [
    "**¿Notaste algo en particular?** Para poder traer la porción entre el 9no y el 22do caracter, debo especificar el caracter donde comienza (`8`) y la posición donde termina (`21`).   \n",
    "Sin embargo, especificamos 22. ¿Por qué? Porque Python **SIEMPRE excluye** la última posición que le especifiquemos. Entonces si especificamos hasta 21, traera hasta el 20. Si queremos hasta el 21 inclusive, debemos colocar 22 entonces."
   ]
  },
  {
   "cell_type": "code",
   "execution_count": null,
   "metadata": {},
   "outputs": [],
   "source": [
    "#asigna el string a la variable mi_frase_prueba\n",
    "mi_frase_prueba = \"Es esencial que leas mucho\"\n",
    "mi_segunda_prueba = \"Para muchos era invisible aunque sus ojos se destacaban\""
   ]
  },
  {
   "cell_type": "code",
   "execution_count": null,
   "metadata": {},
   "outputs": [],
   "source": [
    "#Selecciona el substring esencial de la variable mi_frase_prueba y asignalo a la variable primera_palabra\n",
    "\n",
    "\n",
    "#Selecciona el substring invisible de la variable mi_segunda_prueba y asignalo a la variable segunda_palabra\n",
    "\n",
    "\n",
    "#Selecciona el substring ojos de la variable mi_segunda_prueba y asignalo a la variable tercera_palabra\n"
   ]
  },
  {
   "cell_type": "code",
   "execution_count": null,
   "metadata": {},
   "outputs": [],
   "source": [
    "#Concatena los strings \"Lo\", primera_palabra, \"es\", segunda_palabra, \"a los\", tercera_palabra.\n",
    "#Imprime el resultado. No te olvides de especificar espacios usando el string \" \"\n"
   ]
  },
  {
   "cell_type": "code",
   "execution_count": null,
   "metadata": {},
   "outputs": [],
   "source": [
    "#Ahora concatena tercera_palabra y la variable mi_numero definida anteriormente\n"
   ]
  },
  {
   "cell_type": "markdown",
   "metadata": {},
   "source": [
    "Como podrás ver no es posible concatenar variables de distintos tipos. Sin embargo, hay algunas funciones que nos brinda Python que nos permiten transformar entre tipos de variables.\n",
    "\n",
    "- `str()` convierte a string una variable o valor"
   ]
  },
  {
   "cell_type": "code",
   "execution_count": null,
   "metadata": {},
   "outputs": [],
   "source": [
    "#Aplica la función str a la variable mi_numero y guardala en la variable mi_numero_str\n",
    "mi_numero_str = str(mi_numero)"
   ]
  },
  {
   "cell_type": "code",
   "execution_count": null,
   "metadata": {},
   "outputs": [],
   "source": [
    "#Concatena tercera_palabra y mi_numero_str\n",
    "tercera_palabra + mi_numero_str"
   ]
  },
  {
   "cell_type": "markdown",
   "metadata": {},
   "source": [
    "- `int()` convierte a entero una variable o valor"
   ]
  },
  {
   "cell_type": "code",
   "execution_count": null,
   "metadata": {},
   "outputs": [],
   "source": [
    "#Aplica la función int a mi_numero_str y multiplicalo por 5\n",
    "int(mi_numero_str) * 5"
   ]
  },
  {
   "cell_type": "markdown",
   "metadata": {},
   "source": [
    "Otras funciones similares son: [`float()`](https://docs.python.org/3/library/functions.html#float) y [`bool()`](https://docs.python.org/3/library/functions.html#bool)."
   ]
  },
  {
   "cell_type": "markdown",
   "metadata": {},
   "source": [
    "#### Inmutables\n",
    "\n",
    "Todos los tipos de variables que vimos hasta ahora son **inmutables**. Esto significa que no pueden ser alteradas después de haber sido creadas."
   ]
  },
  {
   "cell_type": "code",
   "execution_count": null,
   "metadata": {},
   "outputs": [],
   "source": [
    "#Corre la siguiente linea y observa que occurre\n",
    "variable_inmutable = \"Los strings son inmutables en Python\"\n",
    "variable_inmutable[8] = \"f\""
   ]
  },
  {
   "cell_type": "markdown",
   "metadata": {},
   "source": [
    "Lo que nos dice el error, es que una vez asignada una variable, no puedo cambiar parte de ella. \n",
    "Además de los mencionados hasta ahora, Python nos ofrece otras estructuras de datos que son más flexibles y permiten agrupar varios valores. Además muchas de ellas son mutables, es decir, permiten que asignemos o alteremos valores una vez definidas. "
   ]
  },
  {
   "cell_type": "markdown",
   "metadata": {},
   "source": [
    "## Operaciones aritméticas\n",
    "Ahora que conocemos los cuatro tipos de dato básicos, veamos algunas operaciones que se\n",
    "pueden aplicar sobre ellos.\n",
    "Comencemos por los números enteros y de coma flotante. En la clase anterior estuvimos\n",
    "sumando dos enteros de la siguiente forma:"
   ]
  },
  {
   "cell_type": "code",
   "execution_count": null,
   "metadata": {},
   "outputs": [],
   "source": [
    "#Suma\n",
    "print(7+5)\n",
    "#Resta\n",
    "print(5-2)\n",
    "#Multiplicacion\n",
    "print(3 * 5)\n",
    "#División\n",
    "print(10 / 2)"
   ]
  },
  {
   "cell_type": "markdown",
   "metadata": {},
   "source": [
    "Los objetos alrededor de un operador (en este ejemplo, 7 y 5 ) pueden ser simples números\n",
    "enteros o de coma flotante, o bien expresiones que retornen un número entero o de coma\n",
    "flotante, o bien **variables** que contengan un número entero o de coma flotante."
   ]
  },
  {
   "cell_type": "code",
   "execution_count": null,
   "metadata": {},
   "outputs": [],
   "source": [
    "a = 5\n",
    "pi = 3.1415\n",
    "print(a+7)\n",
    "print(pi-pi)\n",
    "print(pi*3)\n",
    "print(a/pi)"
   ]
  },
  {
   "cell_type": "markdown",
   "metadata": {},
   "source": [
    "Estas cuatro operaciones aritméticas retornan un entero cuando los dos objetos sobre los que actúan son enteros. Si alguno de ellos es un número de coma flotante, o bien ambos, el resultado es un número de coma flotante. De esto se sigue que pi - pi retorne 0.0 (un número de coma flotante) y no 0 (un número entero).\n",
    "\n",
    "También podemos hacer uso de los paréntesis para agrupar expresiones, al igual que en\n",
    "matemática:"
   ]
  },
  {
   "cell_type": "code",
   "execution_count": null,
   "metadata": {},
   "outputs": [],
   "source": [
    "print(7 + 5 * 3)\n",
    "print((7 + 5) * 3)"
   ]
  },
  {
   "cell_type": "markdown",
   "metadata": {},
   "source": [
    "## Operaciones comparativas\n",
    "Siguiendo con los números enteros y de coma flotante, además de las operaciones\n",
    "aritméticas disponemos de operaciones de comparación vía los siguientes operadores:\n",
    "\n",
    "     == (igualdad),\n",
    "     != (desigualdad),\n",
    "     > (mayor),\n",
    "     >= (mayor o igual),\n",
    "     < (menor) y,\n",
    "     < (menor o igual).\n",
    "     \n",
    "Al ejecutar alguna de estas cinco operaciones, el resultado siempre es un `booleano` (es decir, True o False ) según la comparación sea verdadera o falsa, así como el resultado en las operaciones aritméticas siempre era un número entero o de coma flotante. Ejemplos:"
   ]
  },
  {
   "cell_type": "code",
   "execution_count": null,
   "metadata": {},
   "outputs": [],
   "source": [
    "print(7 > 5)\n",
    "print(7 <= 5)\n",
    "print(7 != 5)\n",
    "print(7 == 5)\n",
    "print(5 >= 7)\n",
    "print(5 < 7)"
   ]
  },
  {
   "cell_type": "markdown",
   "metadata": {},
   "source": [
    "Los operadores **> **,** >= **,** < **y** <= ** solo pueden aplicarse sobre números enteros o de coma flotante; no obstante, los operadores de igualdad y desigualdad permiten comparar indistintamente cualquiera de los cuatro tipos de dato básicos (y también otros que veremos más adelante)."
   ]
  },
  {
   "cell_type": "markdown",
   "metadata": {},
   "source": [
    "## Operaciones lógicas\n",
    "Las operaciones lógicas son tan comunes como las comparaciones en cualquier programa,\n",
    "puesto que nos permiten crear comparaciones más complejas. Consideremos la siguiente\n",
    "variable:"
   ]
  },
  {
   "cell_type": "code",
   "execution_count": null,
   "metadata": {},
   "outputs": [],
   "source": [
    "a = 5"
   ]
  },
  {
   "cell_type": "markdown",
   "metadata": {},
   "source": [
    "¿Cómo puedo determinar si a es mayor a 1 y menor a 10, o, lo que es lo mismo, si a se\n",
    "encuentra entre 1 y 10? Necesito combinar dos operaciones de comparación; para ello,\n",
    "empleamos la palabra reservada (esto es, palabras que Python reserva para sí y que no\n",
    "pueden constituir el nombre de ninguna variable) `and` ."
   ]
  },
  {
   "cell_type": "code",
   "execution_count": null,
   "metadata": {},
   "outputs": [],
   "source": [
    "a > 1 and a < 10"
   ]
  },
  {
   "cell_type": "markdown",
   "metadata": {},
   "source": [
    "Esta operación se conoce como **conjunción** . El resultado de una conjunción es `True` cuando las dos condiciones que se propone conectar son verdaderas. En este caso, a > 1\n",
    "and a < 10 es verdadero únicamente cuando a > 1 y a < 10 son ambas verdaderas. Si alguna de ellas es `False`, el resultado también lo es. Confirmemos lo que acabamos de decir:"
   ]
  },
  {
   "cell_type": "code",
   "execution_count": null,
   "metadata": {},
   "outputs": [],
   "source": [
    "True and True"
   ]
  },
  {
   "cell_type": "code",
   "execution_count": null,
   "metadata": {},
   "outputs": [],
   "source": [
    "True and False"
   ]
  },
  {
   "cell_type": "code",
   "execution_count": null,
   "metadata": {},
   "outputs": [],
   "source": [
    "False and True"
   ]
  },
  {
   "cell_type": "markdown",
   "metadata": {},
   "source": [
    "Por otro lado, la **disyunción** nos permite saber si alguna de dos comparaciones es verdadera. \n",
    "Por ejemplo, si queremos saber si a es igual a 1 o bien igual a 10:"
   ]
  },
  {
   "cell_type": "code",
   "execution_count": null,
   "metadata": {},
   "outputs": [],
   "source": [
    "a == 1 or a == 10"
   ]
  },
  {
   "cell_type": "markdown",
   "metadata": {},
   "source": [
    "Una disyunción es verdadera cuando **al menos una** de las dos comparaciones que conecta es `True`. En nuestro ejemplo, tanto a == 1 como a == 10 son comparaciones `False`, puesto que a es 5 . Comprobemos del mismo modo esta definición:"
   ]
  },
  {
   "cell_type": "code",
   "execution_count": null,
   "metadata": {},
   "outputs": [],
   "source": [
    "True or True"
   ]
  },
  {
   "cell_type": "code",
   "execution_count": null,
   "metadata": {},
   "outputs": [],
   "source": [
    "True or False"
   ]
  },
  {
   "cell_type": "code",
   "execution_count": null,
   "metadata": {},
   "outputs": [],
   "source": [
    "False or False"
   ]
  },
  {
   "cell_type": "markdown",
   "metadata": {},
   "source": [
    "La **negación** , que ejecutamos con la palabra reservada not , invierte el valor lógico de un `booleano`."
   ]
  },
  {
   "cell_type": "code",
   "execution_count": null,
   "metadata": {},
   "outputs": [],
   "source": [
    "not True"
   ]
  },
  {
   "cell_type": "code",
   "execution_count": null,
   "metadata": {},
   "outputs": [],
   "source": [
    "not False"
   ]
  },
  {
   "cell_type": "markdown",
   "metadata": {},
   "source": [
    "## Condicionales\n",
    "Dijimos que el código de un programa es ejecutado por Python de izquierda a derecha y de arriba hacia abajo. Los condicionales nos permiten diferir la ejecución de una porción de código (es decir, una o más líneas) según se cumpla una condición u otra; o, lo que es lo\n",
    "mismo, hacer que un bloque de código se ejecute únicamente cuando se cumpla una condición. Es decir, los condicionales nos permiten modificar el `flujo del programa`.\n",
    "Observemos el siguiente código de ejemplo y vayamos analizando parte por parte."
   ]
  },
  {
   "cell_type": "code",
   "execution_count": null,
   "metadata": {},
   "outputs": [],
   "source": [
    "a = 12\n",
    "if a > 10:\n",
    "    print(\"a es mayor que 10.\")"
   ]
  },
  {
   "cell_type": "markdown",
   "metadata": {},
   "source": [
    "La primera línea define una variable `a` con el valor 12 , y la segunda línea indica que el código a continuación solo debe ejecutarse cuando la condición a > 10 sea verdadera. En efecto, si cambiamos `a = 12` por `a = 7` , veremos que, al correr el programa, la tercera línea será\n",
    "ignorada.\n",
    "\n",
    "El bloque de código que será ejecutado dependiendo del resultado de la condición debe tener aplicada una sangría de cuatro espacios (esto también se conoce como `indentación`, que  es una transliteración del inglés indentation). La sangría es necesaria para poder diferenciar el bloque que se encuentra dentro del condicional del resto del código. Por ejemplo:"
   ]
  },
  {
   "cell_type": "code",
   "execution_count": null,
   "metadata": {},
   "outputs": [],
   "source": [
    "a = 12\n",
    "if a > 10:\n",
    "    print(\"a es mayor que 10.\")\n",
    "print(\"Hola mundo\")"
   ]
  },
  {
   "cell_type": "markdown",
   "metadata": {},
   "source": [
    "En este caso, le estamos indicando a Python que únicamente la tercera línea debe ejecutarse si a > 10 . En cambio, la cuarta está por fuera del condicional por cuanto no tiene sangría, y por ende se ejecute siempre independientemente del resultado de la condición.\n",
    "\n",
    "Los condicionales, entonces, están constituidos por:\n",
    "* la palabra reservada **if** ,\n",
    "* una **condición o expresión** cuyo resultado debe ser True o False seguida de **dos puntos(:)** y,\n",
    "* una o más **líneas con sangría**."
   ]
  },
  {
   "cell_type": "markdown",
   "metadata": {},
   "source": [
    "En Jupyter la sangría se aplica automáticamente a la siguiente línea al presionar `Enter` luego de indicar los dos puntos al final de la condición. También podemos insertar manualmente sangría presionando la tecla `Tab` o cuatro veces la `barra espaciadora`.\n",
    "La cantidad de código que podemos incluir dentro de un condicional es ilimitada. Incluso\n",
    "puede contener otras definiciones de variables y otros condicionales:"
   ]
  },
  {
   "cell_type": "code",
   "execution_count": null,
   "metadata": {},
   "outputs": [],
   "source": [
    "a = 12\n",
    "if a > 10:\n",
    "    print(\"a es mayor que 10.\")\n",
    "    b = 5\n",
    "    if b == 5 or b == 3.14:\n",
    "        print(\"b es 5 o 3.14.\")"
   ]
  },
  {
   "cell_type": "markdown",
   "metadata": {},
   "source": [
    "Ahora bien, consideremos esta variante:"
   ]
  },
  {
   "cell_type": "code",
   "execution_count": null,
   "metadata": {},
   "outputs": [],
   "source": [
    "a = 12\n",
    "if a > 10:\n",
    "    print(\"a es mayor que 10.\")\n",
    "else:\n",
    "    print(\"a es menor o igual que 10.\")"
   ]
  },
  {
   "cell_type": "markdown",
   "metadata": {},
   "source": [
    "La sintaxis es bastante clara: la tercera línea se ejecutará cuando a > 10 sea verdadero; y la quinta, cuando sea falso. Nótese que las palabras reservadas **if** y **else** deben estar alineadas, es decir, deben tener la misma sangría (si bien en este ejemplo no tienen sangría\n",
    "en absoluto).\n",
    "Por lo dicho es evidente que el código anterior es similar al siguiente:"
   ]
  },
  {
   "cell_type": "code",
   "execution_count": null,
   "metadata": {},
   "outputs": [],
   "source": [
    "if a > 10:\n",
    "    print(\"a es mayor que 10.\")\n",
    "if not a > 10:\n",
    "    print(\"a es menor o igual que 10.\")"
   ]
  },
  {
   "cell_type": "markdown",
   "metadata": {},
   "source": [
    "O bien a este otro:"
   ]
  },
  {
   "cell_type": "code",
   "execution_count": null,
   "metadata": {},
   "outputs": [],
   "source": [
    "a = 12\n",
    "if a > 10:\n",
    "    print(\"a es mayor que 10.\")\n",
    "if a <= 10:\n",
    "    print(\"a es menor o igual que 10.\")"
   ]
  },
  {
   "cell_type": "markdown",
   "metadata": {},
   "source": [
    "Nos resta la palabra reservada **elif** , que nos permite agregar más de una condición en un\n",
    "mismo condicional:"
   ]
  },
  {
   "cell_type": "code",
   "execution_count": null,
   "metadata": {},
   "outputs": [],
   "source": [
    "a = 5\n",
    "if a == 1:\n",
    "    print(\"a es 1.\")\n",
    "elif a == 2:\n",
    "    print(\"a es 2.\")\n",
    "elif a > 2 and a < 10:\n",
    "    print(\"a es mayor que 2 y menor que 10.\")\n",
    "else:\n",
    "    print(\"a es mayor o igual que 10.\")"
   ]
  },
  {
   "cell_type": "markdown",
   "metadata": {},
   "source": [
    "Así como en un condicional del tipo **if / else** únicamente se ejecuta un bloque de código, del mismo modo ocurre aquí. Cuando tenemos un condicional con múltiples condiciones (en donde la primera se escribe con if y el resto con **elif** ), todas ellas son evaluadas por Python (por “evaluar” entendemos determinar si son `True` o `False`) en el orden en el que están dispuestas en el código. De este modo, si a == 1 es `True`, se ejecuta print(\"a es 1.\") y el condicional termina; es decir, el resto de las condiciones no son consideradas. Pero si a == 1 es `False`, entonces se considera la segunda condición, a == 2 , y así sucesivamente hasta llegar al else en caso que todas las condiciones anteriores sean falsas."
   ]
  },
  {
   "cell_type": "markdown",
   "metadata": {},
   "source": [
    "## Ejercicios:"
   ]
  },
  {
   "cell_type": "markdown",
   "metadata": {},
   "source": [
    "* Realizar un programa donde el usuario ingresando la edad pueda saber si puede votar, y si su voto es obligatorio o no"
   ]
  },
  {
   "cell_type": "code",
   "execution_count": 8,
   "metadata": {},
   "outputs": [
    {
     "name": "stdout",
     "output_type": "stream",
     "text": [
      "Ingrese la edad80\n",
      "voto opcional\n"
     ]
    }
   ],
   "source": [
    "#Escribe la solucion aqui\n",
    "edad = int(input(\"Ingrese la edad\"))\n",
    "if edad <16:\n",
    "    print(\"No vota\")\n",
    "    \n",
    "elif (edad >15 and edad < 18) or edad >70:\n",
    "    print(\"voto opcional\")\n",
    "    \n",
    "elif edad >= 18 and edad <71:\n",
    "    print(\"voto obligatorio\")\n"
   ]
  },
  {
   "cell_type": "markdown",
   "metadata": {},
   "source": [
    "* De dos números, saber cual es el mayor. "
   ]
  },
  {
   "cell_type": "code",
   "execution_count": 12,
   "metadata": {},
   "outputs": [
    {
     "name": "stdout",
     "output_type": "stream",
     "text": [
      "ingrese un numero0\n",
      "ingrese un numero0\n",
      "0.0 es igual a 0.0\n"
     ]
    }
   ],
   "source": [
    "#Escribe la solucion aqui\n",
    "a = float(input(\"ingrese un numero\")) \n",
    "b = float(input(\"ingrese un numero\"))\n",
    "\n",
    "if a>b:\n",
    "    print(a, \"es mayor que\" , b)\n",
    "elif a<b:\n",
    "    print(a, \"es menor que\" , b)\n",
    "else:\n",
    "    print(a , \"es igual a\" , b)\n"
   ]
  },
  {
   "cell_type": "markdown",
   "metadata": {},
   "source": [
    "* Crea una variable numérica y si esta entre 0 y 10, mostrar un mensaje indicándolo."
   ]
  },
  {
   "cell_type": "code",
   "execution_count": 18,
   "metadata": {},
   "outputs": [
    {
     "name": "stdout",
     "output_type": "stream",
     "text": [
      "ingrese un numero55\n",
      "55 esta fuera del rango\n"
     ]
    }
   ],
   "source": [
    "#Escribe la solucion aqui\n",
    "numero = int(input(\"ingrese un numero\"))\n",
    "if numero >= 0 and numero <= 10:\n",
    "    print(numero, \"esta entre 0 y 10\")\n",
    "elif numero>10 and numero<21:\n",
    "     print(numero, \"esta entre 11 y 20\")\n",
    "elif numero>20 and numero<31:\n",
    "     print(numero, \"esta entre 21 y 30\")\n",
    "else: \n",
    "    print(numero, \"esta fuera del rango\")"
   ]
  },
  {
   "cell_type": "markdown",
   "metadata": {},
   "source": [
    "* Añadir al anterior ejercicio, que si esta entre 11 y 20, muestre otro mensaje diferente y si esta entre 21 y 30 otro mensaje"
   ]
  },
  {
   "cell_type": "code",
   "execution_count": null,
   "metadata": {},
   "outputs": [],
   "source": [
    "#Escribe la solucion aqui"
   ]
  },
  {
   "cell_type": "markdown",
   "metadata": {},
   "source": [
    "* Realiza un programa que lea dos numeros por teclado y permita elegir entre 3 opciones en un menu:\n",
    "    - Mostrar una suma de los dos numeros\n",
    "    - Mostrar una resta de los dos numeros (el primero menos el segundo)\n",
    "    - Mostrar una multiplicacion de los dos numeros\n",
    "    - En caso de no introducir una opcion valida, el programa informara de que no es correcta."
   ]
  },
  {
   "cell_type": "code",
   "execution_count": 28,
   "metadata": {},
   "outputs": [
    {
     "name": "stdout",
     "output_type": "stream",
     "text": [
      "introduce un numero1\n",
      "introduce un numero1\n",
      "ingrese una opcion:\n",
      "1-Suma\n",
      "2-Resta\n",
      "3-Multiplicacion\n",
      "1\n",
      "la suma de  1.0 y 1.0 es 2.0\n"
     ]
    }
   ],
   "source": [
    "#Escribe la solucion aqui\n",
    "n1 = float(input(\"introduce un numero\"))\n",
    "n2 = float(input(\"introduce un numero\"))\n",
    "opcion = input(\"ingrese una opcion:\\n1-Suma\\n2-Resta\\n3-Multiplicacion\\n\")\n",
    "\n",
    "if opcion == \"1\":\n",
    "    print(\"la suma de \", n1, \"y\", n2, \"es\" , n1+n2)\n",
    "elif opcion == \"2\":\n",
    "    print(\"la resta de \", n1, \"y\", n2, \"es\" , n1-n2)\n",
    "elif opcion == \"3\":\n",
    "    print(\"la multiplicacion de \", n1, \"y\", n2, \"es\" , n1*n2)\n",
    "else:\n",
    "    print(\"Opcion invalida, por favor ingrese una opcion correcta\")"
   ]
  },
  {
   "cell_type": "markdown",
   "metadata": {},
   "source": [
    "* Crear un programa que permita ingresar dos cadenas vía la consola y luego las compare, imprimiendo un mensaje en caso que sean iguales y otro en caso que sean diferentes."
   ]
  },
  {
   "cell_type": "code",
   "execution_count": 30,
   "metadata": {},
   "outputs": [
    {
     "name": "stdout",
     "output_type": "stream",
     "text": [
      "escriba una cadenaHola\n",
      "escriba una cadenahola\n",
      "las cadenas no coinciden\n"
     ]
    }
   ],
   "source": [
    "#Escribe la solucion aqui\n",
    "a = input(\"escriba una cadena\")\n",
    "b = input(\"escriba una cadena\")\n",
    "\n",
    "if a == b:\n",
    "    print(\"las cadenas coinciden\")\n",
    "else:\n",
    "    print(\"las cadenas no coinciden\")"
   ]
  },
  {
   "cell_type": "markdown",
   "metadata": {},
   "source": [
    "* Crear un programa que solicite el nombre de un alumno a través de la consola, y luego chequee que no esté vacío. En caso de estarlo, debe imprimir un mensaje de error; caso contrario, imprimir un mensaje indicando que se ingresó correctamente."
   ]
  },
  {
   "cell_type": "code",
   "execution_count": 33,
   "metadata": {},
   "outputs": [
    {
     "name": "stdout",
     "output_type": "stream",
     "text": [
      "Escriba el nombre del alumno: \n",
      "Error\n"
     ]
    }
   ],
   "source": [
    "#Escribe la solucion aqui\n",
    "nombre_alumno = input(\"Escriba el nombre del alumno: \")\n",
    "\n",
    "#if nombre_alumno == \"\":\n",
    "#    print(\"Error , nombre vacio\")\n",
    "if len(nombre_alumno) == 0 :\n",
    "    print(\"Error\")\n",
    "\n",
    "else:\n",
    "    print(\"has ingresado correctamente el nombre\")"
   ]
  },
  {
   "cell_type": "markdown",
   "metadata": {},
   "source": [
    "* Crea un programa que nos inidique si el numero ingresado es par o es impar."
   ]
  },
  {
   "cell_type": "code",
   "execution_count": 34,
   "metadata": {},
   "outputs": [
    {
     "name": "stdout",
     "output_type": "stream",
     "text": [
      "introduce un numero5\n",
      "Numero impar\n"
     ]
    }
   ],
   "source": [
    "# usen modulo!\n",
    "numero = int(input(\"introduce un numero\"))\n",
    "if numero%2 == 0:\n",
    "    print(\"El numero es par\")\n",
    "else:\n",
    "    print(\"Numero impar\")"
   ]
  },
  {
   "cell_type": "code",
   "execution_count": 37,
   "metadata": {},
   "outputs": [
    {
     "name": "stdout",
     "output_type": "stream",
     "text": [
      "introduce un numero111111111\n",
      "Numero impar\n"
     ]
    }
   ],
   "source": [
    "numero = input(\"introduce un numero\")\n",
    "\n",
    "if numero[-1] == \"0\" or numero[-1] == \"2\" or numero[-1] == \"4\"or numero[-1] == \"6\"or numero[-1] == \"8\":\n",
    "    print(\"numero par\")\n",
    "    \n",
    "else:\n",
    "    print(\"Numero impar\")\n"
   ]
  },
  {
   "cell_type": "code",
   "execution_count": null,
   "metadata": {},
   "outputs": [],
   "source": []
  }
 ],
 "metadata": {
  "kernelspec": {
   "display_name": "Python 3",
   "language": "python",
   "name": "python3"
  },
  "language_info": {
   "codemirror_mode": {
    "name": "ipython",
    "version": 3
   },
   "file_extension": ".py",
   "mimetype": "text/x-python",
   "name": "python",
   "nbconvert_exporter": "python",
   "pygments_lexer": "ipython3",
   "version": "3.6.5"
  }
 },
 "nbformat": 4,
 "nbformat_minor": 2
}
